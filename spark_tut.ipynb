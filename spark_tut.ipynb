{
 "cells": [
  {
   "cell_type": "code",
   "execution_count": 1,
   "metadata": {},
   "outputs": [],
   "source": [
    "import pyspark"
   ]
  },
  {
   "cell_type": "code",
   "execution_count": 2,
   "metadata": {},
   "outputs": [
    {
     "ename": "Exception",
     "evalue": "Java gateway process exited before sending its port number",
     "output_type": "error",
     "traceback": [
      "\u001b[0;31m---------------------------------------------------------------------------\u001b[0m",
      "\u001b[0;31mException\u001b[0m                                 Traceback (most recent call last)",
      "\u001b[0;32m<ipython-input-2-649d21fcb151>\u001b[0m in \u001b[0;36m<module>\u001b[0;34m()\u001b[0m\n\u001b[0;32m----> 1\u001b[0;31m \u001b[0mpyspark\u001b[0m\u001b[0;34m.\u001b[0m\u001b[0mSparkContext\u001b[0m\u001b[0;34m.\u001b[0m\u001b[0mgetOrCreate\u001b[0m\u001b[0;34m(\u001b[0m\u001b[0;34m)\u001b[0m\u001b[0;34m\u001b[0m\u001b[0m\n\u001b[0m",
      "\u001b[0;32m/usr/local/lib/python3.5/dist-packages/pyspark/context.py\u001b[0m in \u001b[0;36mgetOrCreate\u001b[0;34m(cls, conf)\u001b[0m\n\u001b[1;32m    341\u001b[0m         \u001b[0;32mwith\u001b[0m \u001b[0mSparkContext\u001b[0m\u001b[0;34m.\u001b[0m\u001b[0m_lock\u001b[0m\u001b[0;34m:\u001b[0m\u001b[0;34m\u001b[0m\u001b[0m\n\u001b[1;32m    342\u001b[0m             \u001b[0;32mif\u001b[0m \u001b[0mSparkContext\u001b[0m\u001b[0;34m.\u001b[0m\u001b[0m_active_spark_context\u001b[0m \u001b[0;32mis\u001b[0m \u001b[0;32mNone\u001b[0m\u001b[0;34m:\u001b[0m\u001b[0;34m\u001b[0m\u001b[0m\n\u001b[0;32m--> 343\u001b[0;31m                 \u001b[0mSparkContext\u001b[0m\u001b[0;34m(\u001b[0m\u001b[0mconf\u001b[0m\u001b[0;34m=\u001b[0m\u001b[0mconf\u001b[0m \u001b[0;32mor\u001b[0m \u001b[0mSparkConf\u001b[0m\u001b[0;34m(\u001b[0m\u001b[0;34m)\u001b[0m\u001b[0;34m)\u001b[0m\u001b[0;34m\u001b[0m\u001b[0m\n\u001b[0m\u001b[1;32m    344\u001b[0m             \u001b[0;32mreturn\u001b[0m \u001b[0mSparkContext\u001b[0m\u001b[0;34m.\u001b[0m\u001b[0m_active_spark_context\u001b[0m\u001b[0;34m\u001b[0m\u001b[0m\n\u001b[1;32m    345\u001b[0m \u001b[0;34m\u001b[0m\u001b[0m\n",
      "\u001b[0;32m/usr/local/lib/python3.5/dist-packages/pyspark/context.py\u001b[0m in \u001b[0;36m__init__\u001b[0;34m(self, master, appName, sparkHome, pyFiles, environment, batchSize, serializer, conf, gateway, jsc, profiler_cls)\u001b[0m\n\u001b[1;32m    113\u001b[0m         \"\"\"\n\u001b[1;32m    114\u001b[0m         \u001b[0mself\u001b[0m\u001b[0;34m.\u001b[0m\u001b[0m_callsite\u001b[0m \u001b[0;34m=\u001b[0m \u001b[0mfirst_spark_call\u001b[0m\u001b[0;34m(\u001b[0m\u001b[0;34m)\u001b[0m \u001b[0;32mor\u001b[0m \u001b[0mCallSite\u001b[0m\u001b[0;34m(\u001b[0m\u001b[0;32mNone\u001b[0m\u001b[0;34m,\u001b[0m \u001b[0;32mNone\u001b[0m\u001b[0;34m,\u001b[0m \u001b[0;32mNone\u001b[0m\u001b[0;34m)\u001b[0m\u001b[0;34m\u001b[0m\u001b[0m\n\u001b[0;32m--> 115\u001b[0;31m         \u001b[0mSparkContext\u001b[0m\u001b[0;34m.\u001b[0m\u001b[0m_ensure_initialized\u001b[0m\u001b[0;34m(\u001b[0m\u001b[0mself\u001b[0m\u001b[0;34m,\u001b[0m \u001b[0mgateway\u001b[0m\u001b[0;34m=\u001b[0m\u001b[0mgateway\u001b[0m\u001b[0;34m,\u001b[0m \u001b[0mconf\u001b[0m\u001b[0;34m=\u001b[0m\u001b[0mconf\u001b[0m\u001b[0;34m)\u001b[0m\u001b[0;34m\u001b[0m\u001b[0m\n\u001b[0m\u001b[1;32m    116\u001b[0m         \u001b[0;32mtry\u001b[0m\u001b[0;34m:\u001b[0m\u001b[0;34m\u001b[0m\u001b[0m\n\u001b[1;32m    117\u001b[0m             self._do_init(master, appName, sparkHome, pyFiles, environment, batchSize, serializer,\n",
      "\u001b[0;32m/usr/local/lib/python3.5/dist-packages/pyspark/context.py\u001b[0m in \u001b[0;36m_ensure_initialized\u001b[0;34m(cls, instance, gateway, conf)\u001b[0m\n\u001b[1;32m    290\u001b[0m         \u001b[0;32mwith\u001b[0m \u001b[0mSparkContext\u001b[0m\u001b[0;34m.\u001b[0m\u001b[0m_lock\u001b[0m\u001b[0;34m:\u001b[0m\u001b[0;34m\u001b[0m\u001b[0m\n\u001b[1;32m    291\u001b[0m             \u001b[0;32mif\u001b[0m \u001b[0;32mnot\u001b[0m \u001b[0mSparkContext\u001b[0m\u001b[0;34m.\u001b[0m\u001b[0m_gateway\u001b[0m\u001b[0;34m:\u001b[0m\u001b[0;34m\u001b[0m\u001b[0m\n\u001b[0;32m--> 292\u001b[0;31m                 \u001b[0mSparkContext\u001b[0m\u001b[0;34m.\u001b[0m\u001b[0m_gateway\u001b[0m \u001b[0;34m=\u001b[0m \u001b[0mgateway\u001b[0m \u001b[0;32mor\u001b[0m \u001b[0mlaunch_gateway\u001b[0m\u001b[0;34m(\u001b[0m\u001b[0mconf\u001b[0m\u001b[0;34m)\u001b[0m\u001b[0;34m\u001b[0m\u001b[0m\n\u001b[0m\u001b[1;32m    293\u001b[0m                 \u001b[0mSparkContext\u001b[0m\u001b[0;34m.\u001b[0m\u001b[0m_jvm\u001b[0m \u001b[0;34m=\u001b[0m \u001b[0mSparkContext\u001b[0m\u001b[0;34m.\u001b[0m\u001b[0m_gateway\u001b[0m\u001b[0;34m.\u001b[0m\u001b[0mjvm\u001b[0m\u001b[0;34m\u001b[0m\u001b[0m\n\u001b[1;32m    294\u001b[0m \u001b[0;34m\u001b[0m\u001b[0m\n",
      "\u001b[0;32m/usr/local/lib/python3.5/dist-packages/pyspark/java_gateway.py\u001b[0m in \u001b[0;36mlaunch_gateway\u001b[0;34m(conf)\u001b[0m\n\u001b[1;32m     91\u001b[0m \u001b[0;34m\u001b[0m\u001b[0m\n\u001b[1;32m     92\u001b[0m             \u001b[0;32mif\u001b[0m \u001b[0;32mnot\u001b[0m \u001b[0mos\u001b[0m\u001b[0;34m.\u001b[0m\u001b[0mpath\u001b[0m\u001b[0;34m.\u001b[0m\u001b[0misfile\u001b[0m\u001b[0;34m(\u001b[0m\u001b[0mconn_info_file\u001b[0m\u001b[0;34m)\u001b[0m\u001b[0;34m:\u001b[0m\u001b[0;34m\u001b[0m\u001b[0m\n\u001b[0;32m---> 93\u001b[0;31m                 \u001b[0;32mraise\u001b[0m \u001b[0mException\u001b[0m\u001b[0;34m(\u001b[0m\u001b[0;34m\"Java gateway process exited before sending its port number\"\u001b[0m\u001b[0;34m)\u001b[0m\u001b[0;34m\u001b[0m\u001b[0m\n\u001b[0m\u001b[1;32m     94\u001b[0m \u001b[0;34m\u001b[0m\u001b[0m\n\u001b[1;32m     95\u001b[0m             \u001b[0;32mwith\u001b[0m \u001b[0mopen\u001b[0m\u001b[0;34m(\u001b[0m\u001b[0mconn_info_file\u001b[0m\u001b[0;34m,\u001b[0m \u001b[0;34m\"rb\"\u001b[0m\u001b[0;34m)\u001b[0m \u001b[0;32mas\u001b[0m \u001b[0minfo\u001b[0m\u001b[0;34m:\u001b[0m\u001b[0;34m\u001b[0m\u001b[0m\n",
      "\u001b[0;31mException\u001b[0m: Java gateway process exited before sending its port number"
     ]
    }
   ],
   "source": [
    "pyspark.SparkContext.getOrCreate()"
   ]
  },
  {
   "cell_type": "code",
   "execution_count": 241,
   "metadata": {},
   "outputs": [],
   "source": [
    "list1=[1,2,3,4]"
   ]
  },
  {
   "cell_type": "code",
   "execution_count": 222,
   "metadata": {},
   "outputs": [
    {
     "data": {
      "text/plain": [
       "[3, 5]"
      ]
     },
     "execution_count": 222,
     "metadata": {},
     "output_type": "execute_result"
    }
   ],
   "source": []
  },
  {
   "cell_type": "code",
   "execution_count": 242,
   "metadata": {},
   "outputs": [
    {
     "data": {
      "text/plain": [
       "20"
      ]
     },
     "execution_count": 242,
     "metadata": {},
     "output_type": "execute_result"
    }
   ],
   "source": [
    "def recur(list1):\n",
    "    if len(list1)==1:\n",
    "        return list1[0]\n",
    "    else:\n",
    "        list2=[]\n",
    "        for x in range(len(list1)-1):\n",
    "            list2.append(list1[x]+list1[x+1])\n",
    "        return recur(list2)\n",
    "recur(list1)"
   ]
  },
  {
   "cell_type": "code",
   "execution_count": 271,
   "metadata": {},
   "outputs": [
    {
     "data": {
      "text/plain": [
       "'Q'"
      ]
     },
     "execution_count": 271,
     "metadata": {},
     "output_type": "execute_result"
    }
   ],
   "source": [
    "chr(81)"
   ]
  },
  {
   "cell_type": "code",
   "execution_count": 275,
   "metadata": {},
   "outputs": [
    {
     "data": {
      "text/plain": [
       "False"
      ]
     },
     "execution_count": 275,
     "metadata": {},
     "output_type": "execute_result"
    }
   ],
   "source": [
    "d={'G':'C','C':'G','T':'A','A':'U'}\n",
    "x='B'\n",
    "x in d"
   ]
  },
  {
   "cell_type": "code",
   "execution_count": 1,
   "metadata": {},
   "outputs": [],
   "source": [
    "import pandas as pd"
   ]
  },
  {
   "cell_type": "code",
   "execution_count": 2,
   "metadata": {},
   "outputs": [],
   "source": [
    "hayrdb = pd.read_csv('/home/dineshb/Downloads/fwdhayrdata/lifetimevaluedata.csv')"
   ]
  },
  {
   "cell_type": "code",
   "execution_count": 9,
   "metadata": {},
   "outputs": [
    {
     "data": {
      "text/plain": [
       "59"
      ]
     },
     "execution_count": 9,
     "metadata": {},
     "output_type": "execute_result"
    }
   ],
   "source": [
    "hayrdb[hayrdb.total_trips>1].shape[0]"
   ]
  },
  {
   "cell_type": "code",
   "execution_count": 4,
   "metadata": {},
   "outputs": [],
   "source": [
    "hayrdb1 = pd.read_csv('/home/dineshb/Downloads/fwdhayrdata/user_point_data.csv')"
   ]
  },
  {
   "cell_type": "code",
   "execution_count": 7,
   "metadata": {},
   "outputs": [
    {
     "data": {
      "text/html": [
       "<div>\n",
       "<style scoped>\n",
       "    .dataframe tbody tr th:only-of-type {\n",
       "        vertical-align: middle;\n",
       "    }\n",
       "\n",
       "    .dataframe tbody tr th {\n",
       "        vertical-align: top;\n",
       "    }\n",
       "\n",
       "    .dataframe thead th {\n",
       "        text-align: right;\n",
       "    }\n",
       "</style>\n",
       "<table border=\"1\" class=\"dataframe\">\n",
       "  <thead>\n",
       "    <tr style=\"text-align: right;\">\n",
       "      <th></th>\n",
       "      <th>email</th>\n",
       "      <th>name</th>\n",
       "      <th>user_current_points</th>\n",
       "    </tr>\n",
       "  </thead>\n",
       "  <tbody>\n",
       "    <tr>\n",
       "      <th>1</th>\n",
       "      <td>shubhamk669@gmail.com</td>\n",
       "      <td>shubham kumar</td>\n",
       "      <td>7158</td>\n",
       "    </tr>\n",
       "    <tr>\n",
       "      <th>2</th>\n",
       "      <td>gs26416@gmail.com</td>\n",
       "      <td>Gurvinder Singh</td>\n",
       "      <td>2788</td>\n",
       "    </tr>\n",
       "    <tr>\n",
       "      <th>31</th>\n",
       "      <td>vakeel.samad@gmail.com</td>\n",
       "      <td>vakeel ahmed</td>\n",
       "      <td>44200</td>\n",
       "    </tr>\n",
       "    <tr>\n",
       "      <th>39</th>\n",
       "      <td>sunil@jaarvis.com</td>\n",
       "      <td>sunil mendi</td>\n",
       "      <td>100</td>\n",
       "    </tr>\n",
       "    <tr>\n",
       "      <th>41</th>\n",
       "      <td>nitesh.kumar@jaarvis.com</td>\n",
       "      <td>Nitesh Kumar</td>\n",
       "      <td>393371</td>\n",
       "    </tr>\n",
       "    <tr>\n",
       "      <th>42</th>\n",
       "      <td>sushil864@gmail.com</td>\n",
       "      <td>Sushil Sharma</td>\n",
       "      <td>50000</td>\n",
       "    </tr>\n",
       "    <tr>\n",
       "      <th>49</th>\n",
       "      <td>soni846666@gmail.com</td>\n",
       "      <td>SANJAY KUMAR</td>\n",
       "      <td>100000</td>\n",
       "    </tr>\n",
       "    <tr>\n",
       "      <th>55</th>\n",
       "      <td>pressshelly@gmail.com</td>\n",
       "      <td>shalinder kumar</td>\n",
       "      <td>74128</td>\n",
       "    </tr>\n",
       "    <tr>\n",
       "      <th>70</th>\n",
       "      <td>gslancer.gsl@gmail.com</td>\n",
       "      <td>Gurbir Singh Lancer</td>\n",
       "      <td>50219</td>\n",
       "    </tr>\n",
       "    <tr>\n",
       "      <th>89</th>\n",
       "      <td>vickyvishal@rediffmail.con</td>\n",
       "      <td>Vishal Arora</td>\n",
       "      <td>50000</td>\n",
       "    </tr>\n",
       "    <tr>\n",
       "      <th>90</th>\n",
       "      <td>yogesh000e@gmail.com</td>\n",
       "      <td>Yogesh Bhardwaj</td>\n",
       "      <td>5000</td>\n",
       "    </tr>\n",
       "    <tr>\n",
       "      <th>107</th>\n",
       "      <td>kuldeepsinghnain.13@gmail.com</td>\n",
       "      <td>Kuldeep Singh</td>\n",
       "      <td>100000</td>\n",
       "    </tr>\n",
       "    <tr>\n",
       "      <th>133</th>\n",
       "      <td>jyla0012@gmail.com</td>\n",
       "      <td>Jyoti lal</td>\n",
       "      <td>50000</td>\n",
       "    </tr>\n",
       "    <tr>\n",
       "      <th>147</th>\n",
       "      <td>smohinder158@gmail.com</td>\n",
       "      <td>Mohinder Singh</td>\n",
       "      <td>50000</td>\n",
       "    </tr>\n",
       "    <tr>\n",
       "      <th>176</th>\n",
       "      <td>mohshti@gmail.com</td>\n",
       "      <td>mohit sharma</td>\n",
       "      <td>50000</td>\n",
       "    </tr>\n",
       "    <tr>\n",
       "      <th>209</th>\n",
       "      <td>angrejdhaliwal07@gmail.com</td>\n",
       "      <td>Angrej Singh Dhaliwal</td>\n",
       "      <td>47128</td>\n",
       "    </tr>\n",
       "    <tr>\n",
       "      <th>215</th>\n",
       "      <td>risham.sasson@gmail.com</td>\n",
       "      <td>Risham Sasson</td>\n",
       "      <td>50374</td>\n",
       "    </tr>\n",
       "    <tr>\n",
       "      <th>235</th>\n",
       "      <td>dmohit96@gmail.com</td>\n",
       "      <td>Mohit Dubey</td>\n",
       "      <td>19369</td>\n",
       "    </tr>\n",
       "    <tr>\n",
       "      <th>288</th>\n",
       "      <td>harinderpalsharma87@gmail.com</td>\n",
       "      <td>harinder Pal sharma</td>\n",
       "      <td>45870</td>\n",
       "    </tr>\n",
       "    <tr>\n",
       "      <th>315</th>\n",
       "      <td>daljitptcnews@gmail.com</td>\n",
       "      <td>Daljit Singh</td>\n",
       "      <td>50000</td>\n",
       "    </tr>\n",
       "    <tr>\n",
       "      <th>373</th>\n",
       "      <td>bikramsinghpunjab11@gmail.com</td>\n",
       "      <td>bikram singh</td>\n",
       "      <td>98348</td>\n",
       "    </tr>\n",
       "    <tr>\n",
       "      <th>376</th>\n",
       "      <td>anuj.aggarwal@altruistindia.com</td>\n",
       "      <td>Anuj Aggarwal</td>\n",
       "      <td>47522</td>\n",
       "    </tr>\n",
       "    <tr>\n",
       "      <th>380</th>\n",
       "      <td>satish668008@gmail.com</td>\n",
       "      <td>Satish kumar</td>\n",
       "      <td>11886</td>\n",
       "    </tr>\n",
       "    <tr>\n",
       "      <th>382</th>\n",
       "      <td>shrowd7@gmail.com</td>\n",
       "      <td>amit rathore</td>\n",
       "      <td>12006</td>\n",
       "    </tr>\n",
       "    <tr>\n",
       "      <th>389</th>\n",
       "      <td>surali54@gmail.com</td>\n",
       "      <td>Sundaresan Krishnamurthy</td>\n",
       "      <td>48478</td>\n",
       "    </tr>\n",
       "    <tr>\n",
       "      <th>402</th>\n",
       "      <td>amit.dubey01@outlook.com</td>\n",
       "      <td>AMIT DUBEY</td>\n",
       "      <td>35308</td>\n",
       "    </tr>\n",
       "    <tr>\n",
       "      <th>415</th>\n",
       "      <td>nitinshar806@gmail.com</td>\n",
       "      <td>Nitin Sharma</td>\n",
       "      <td>25006</td>\n",
       "    </tr>\n",
       "    <tr>\n",
       "      <th>454</th>\n",
       "      <td>ranjitsinghsaran750@gmail.com</td>\n",
       "      <td>ranjit saran</td>\n",
       "      <td>50000</td>\n",
       "    </tr>\n",
       "    <tr>\n",
       "      <th>466</th>\n",
       "      <td>lalharjinder04@gmail.com</td>\n",
       "      <td>HARJINDER LAL</td>\n",
       "      <td>50000</td>\n",
       "    </tr>\n",
       "    <tr>\n",
       "      <th>474</th>\n",
       "      <td>daisy_grewal@hotmail.com</td>\n",
       "      <td>daisy grewal</td>\n",
       "      <td>9446</td>\n",
       "    </tr>\n",
       "    <tr>\n",
       "      <th>...</th>\n",
       "      <td>...</td>\n",
       "      <td>...</td>\n",
       "      <td>...</td>\n",
       "    </tr>\n",
       "    <tr>\n",
       "      <th>1139</th>\n",
       "      <td>visheshmahajan16@gmail.com</td>\n",
       "      <td>Vishesh Mahajan</td>\n",
       "      <td>47608</td>\n",
       "    </tr>\n",
       "    <tr>\n",
       "      <th>1276</th>\n",
       "      <td>atishay.jain1@gmail.com</td>\n",
       "      <td>Atishay Jain</td>\n",
       "      <td>50000</td>\n",
       "    </tr>\n",
       "    <tr>\n",
       "      <th>1415</th>\n",
       "      <td>chawlas786@gmail.com</td>\n",
       "      <td>Swaran Singh</td>\n",
       "      <td>50000</td>\n",
       "    </tr>\n",
       "    <tr>\n",
       "      <th>1532</th>\n",
       "      <td>csankitakataria@gmail.com</td>\n",
       "      <td>Ankita Kataria</td>\n",
       "      <td>32830</td>\n",
       "    </tr>\n",
       "    <tr>\n",
       "      <th>1540</th>\n",
       "      <td>vk.thakur47332@gmail.com</td>\n",
       "      <td>Vikas Thakur</td>\n",
       "      <td>1000</td>\n",
       "    </tr>\n",
       "    <tr>\n",
       "      <th>1579</th>\n",
       "      <td>arushdogra12345@gmail.com</td>\n",
       "      <td>Arush Dogra</td>\n",
       "      <td>2272</td>\n",
       "    </tr>\n",
       "    <tr>\n",
       "      <th>1854</th>\n",
       "      <td>anooprana1992@gmail.com</td>\n",
       "      <td>Anoop Rana</td>\n",
       "      <td>54950</td>\n",
       "    </tr>\n",
       "    <tr>\n",
       "      <th>1937</th>\n",
       "      <td>sanjaysharma2201@gmail.com</td>\n",
       "      <td>Sanjay Sharma</td>\n",
       "      <td>38828</td>\n",
       "    </tr>\n",
       "    <tr>\n",
       "      <th>1999</th>\n",
       "      <td>89.money@gmail.com</td>\n",
       "      <td>Lokesh Malik</td>\n",
       "      <td>51394</td>\n",
       "    </tr>\n",
       "    <tr>\n",
       "      <th>2042</th>\n",
       "      <td>pawanbindal23081980@gmail.com</td>\n",
       "      <td>pawan kumar</td>\n",
       "      <td>64482</td>\n",
       "    </tr>\n",
       "    <tr>\n",
       "      <th>2109</th>\n",
       "      <td>uppal1402@gmail.com</td>\n",
       "      <td>amandeep singh</td>\n",
       "      <td>4432</td>\n",
       "    </tr>\n",
       "    <tr>\n",
       "      <th>2113</th>\n",
       "      <td>nain87.yogi@gmail.com</td>\n",
       "      <td>Joginder Singh</td>\n",
       "      <td>36420</td>\n",
       "    </tr>\n",
       "    <tr>\n",
       "      <th>2150</th>\n",
       "      <td>shubhamnarang08@gmail.com</td>\n",
       "      <td>Shubham Narang</td>\n",
       "      <td>45000</td>\n",
       "    </tr>\n",
       "    <tr>\n",
       "      <th>2163</th>\n",
       "      <td>abhisheksachdeva878@gmail.com</td>\n",
       "      <td>abhishek sachdeva</td>\n",
       "      <td>35640</td>\n",
       "    </tr>\n",
       "    <tr>\n",
       "      <th>2166</th>\n",
       "      <td>ranjitbal2017@gmail.com</td>\n",
       "      <td>ranjeet singh</td>\n",
       "      <td>2000</td>\n",
       "    </tr>\n",
       "    <tr>\n",
       "      <th>2178</th>\n",
       "      <td>gurnamsingh811@gmail.com</td>\n",
       "      <td>gurnam singh</td>\n",
       "      <td>48348</td>\n",
       "    </tr>\n",
       "    <tr>\n",
       "      <th>2187</th>\n",
       "      <td>pandey_527@yahoo.in</td>\n",
       "      <td>Divanshu Pandey</td>\n",
       "      <td>54848</td>\n",
       "    </tr>\n",
       "    <tr>\n",
       "      <th>2222</th>\n",
       "      <td>sehajpal600@gamil.com</td>\n",
       "      <td>sohajpal singh</td>\n",
       "      <td>5484</td>\n",
       "    </tr>\n",
       "    <tr>\n",
       "      <th>2223</th>\n",
       "      <td>mukeshmunjal11146@gmail.com</td>\n",
       "      <td>mukesh kumar</td>\n",
       "      <td>22832</td>\n",
       "    </tr>\n",
       "    <tr>\n",
       "      <th>2287</th>\n",
       "      <td>shivbhatia2905@gmail.com</td>\n",
       "      <td>Shivam Bhatia</td>\n",
       "      <td>2123</td>\n",
       "    </tr>\n",
       "    <tr>\n",
       "      <th>2324</th>\n",
       "      <td>rana.rajat79@gmail.com</td>\n",
       "      <td>Rajat kumar</td>\n",
       "      <td>3610288</td>\n",
       "    </tr>\n",
       "    <tr>\n",
       "      <th>2510</th>\n",
       "      <td>biswassubham00@gmail.com</td>\n",
       "      <td>Shubham Biswas</td>\n",
       "      <td>108384</td>\n",
       "    </tr>\n",
       "    <tr>\n",
       "      <th>2560</th>\n",
       "      <td>shishant987mittal@gmail.com</td>\n",
       "      <td>amit Kumar</td>\n",
       "      <td>27312</td>\n",
       "    </tr>\n",
       "    <tr>\n",
       "      <th>2593</th>\n",
       "      <td>mail@vinodbidhuri.com</td>\n",
       "      <td>Vinod Kumar</td>\n",
       "      <td>50000</td>\n",
       "    </tr>\n",
       "    <tr>\n",
       "      <th>2598</th>\n",
       "      <td>drashishbijoria@gmail.com</td>\n",
       "      <td>Ashish Bijoria</td>\n",
       "      <td>38908</td>\n",
       "    </tr>\n",
       "    <tr>\n",
       "      <th>2610</th>\n",
       "      <td>anurag198700@gmail.com</td>\n",
       "      <td>Anurag Chaudhary</td>\n",
       "      <td>49174</td>\n",
       "    </tr>\n",
       "    <tr>\n",
       "      <th>2612</th>\n",
       "      <td>arjun.inboxme@gmail.com</td>\n",
       "      <td>arjun sarin</td>\n",
       "      <td>50000</td>\n",
       "    </tr>\n",
       "    <tr>\n",
       "      <th>2619</th>\n",
       "      <td>fokdevang@gmail.com</td>\n",
       "      <td>Fok Devang</td>\n",
       "      <td>19438</td>\n",
       "    </tr>\n",
       "    <tr>\n",
       "      <th>2675</th>\n",
       "      <td>karanarorajd@gmail.com</td>\n",
       "      <td>Karan phutela</td>\n",
       "      <td>43392</td>\n",
       "    </tr>\n",
       "    <tr>\n",
       "      <th>2703</th>\n",
       "      <td>kanwarayush.999@gmail.com</td>\n",
       "      <td>ayush kanwar</td>\n",
       "      <td>84656</td>\n",
       "    </tr>\n",
       "  </tbody>\n",
       "</table>\n",
       "<p>80 rows × 3 columns</p>\n",
       "</div>"
      ],
      "text/plain": [
       "                                email                      name  \\\n",
       "1               shubhamk669@gmail.com             shubham kumar   \n",
       "2                   gs26416@gmail.com           Gurvinder Singh   \n",
       "31             vakeel.samad@gmail.com              vakeel ahmed   \n",
       "39                  sunil@jaarvis.com               sunil mendi   \n",
       "41           nitesh.kumar@jaarvis.com              Nitesh Kumar   \n",
       "42                sushil864@gmail.com             Sushil Sharma   \n",
       "49               soni846666@gmail.com              SANJAY KUMAR   \n",
       "55              pressshelly@gmail.com           shalinder kumar   \n",
       "70             gslancer.gsl@gmail.com       Gurbir Singh Lancer   \n",
       "89         vickyvishal@rediffmail.con              Vishal Arora   \n",
       "90               yogesh000e@gmail.com           Yogesh Bhardwaj   \n",
       "107     kuldeepsinghnain.13@gmail.com             Kuldeep Singh   \n",
       "133                jyla0012@gmail.com                 Jyoti lal   \n",
       "147            smohinder158@gmail.com            Mohinder Singh   \n",
       "176                 mohshti@gmail.com              mohit sharma   \n",
       "209        angrejdhaliwal07@gmail.com     Angrej Singh Dhaliwal   \n",
       "215           risham.sasson@gmail.com             Risham Sasson   \n",
       "235                dmohit96@gmail.com               Mohit Dubey   \n",
       "288     harinderpalsharma87@gmail.com       harinder Pal sharma   \n",
       "315           daljitptcnews@gmail.com              Daljit Singh   \n",
       "373     bikramsinghpunjab11@gmail.com              bikram singh   \n",
       "376   anuj.aggarwal@altruistindia.com             Anuj Aggarwal   \n",
       "380            satish668008@gmail.com              Satish kumar   \n",
       "382                 shrowd7@gmail.com              amit rathore   \n",
       "389                surali54@gmail.com  Sundaresan Krishnamurthy   \n",
       "402          amit.dubey01@outlook.com                AMIT DUBEY   \n",
       "415            nitinshar806@gmail.com              Nitin Sharma   \n",
       "454     ranjitsinghsaran750@gmail.com              ranjit saran   \n",
       "466          lalharjinder04@gmail.com             HARJINDER LAL   \n",
       "474          daisy_grewal@hotmail.com              daisy grewal   \n",
       "...                               ...                       ...   \n",
       "1139       visheshmahajan16@gmail.com           Vishesh Mahajan   \n",
       "1276          atishay.jain1@gmail.com              Atishay Jain   \n",
       "1415             chawlas786@gmail.com              Swaran Singh   \n",
       "1532        csankitakataria@gmail.com            Ankita Kataria   \n",
       "1540         vk.thakur47332@gmail.com              Vikas Thakur   \n",
       "1579        arushdogra12345@gmail.com               Arush Dogra   \n",
       "1854          anooprana1992@gmail.com                Anoop Rana   \n",
       "1937       sanjaysharma2201@gmail.com             Sanjay Sharma   \n",
       "1999               89.money@gmail.com              Lokesh Malik   \n",
       "2042    pawanbindal23081980@gmail.com               pawan kumar   \n",
       "2109              uppal1402@gmail.com            amandeep singh   \n",
       "2113            nain87.yogi@gmail.com            Joginder Singh   \n",
       "2150        shubhamnarang08@gmail.com            Shubham Narang   \n",
       "2163    abhisheksachdeva878@gmail.com         abhishek sachdeva   \n",
       "2166          ranjitbal2017@gmail.com             ranjeet singh   \n",
       "2178         gurnamsingh811@gmail.com              gurnam singh   \n",
       "2187              pandey_527@yahoo.in           Divanshu Pandey   \n",
       "2222            sehajpal600@gamil.com            sohajpal singh   \n",
       "2223      mukeshmunjal11146@gmail.com              mukesh kumar   \n",
       "2287         shivbhatia2905@gmail.com             Shivam Bhatia   \n",
       "2324           rana.rajat79@gmail.com               Rajat kumar   \n",
       "2510         biswassubham00@gmail.com            Shubham Biswas   \n",
       "2560      shishant987mittal@gmail.com                amit Kumar   \n",
       "2593            mail@vinodbidhuri.com               Vinod Kumar   \n",
       "2598        drashishbijoria@gmail.com            Ashish Bijoria   \n",
       "2610           anurag198700@gmail.com          Anurag Chaudhary   \n",
       "2612          arjun.inboxme@gmail.com               arjun sarin   \n",
       "2619              fokdevang@gmail.com                Fok Devang   \n",
       "2675           karanarorajd@gmail.com             Karan phutela   \n",
       "2703        kanwarayush.999@gmail.com              ayush kanwar   \n",
       "\n",
       "      user_current_points  \n",
       "1                    7158  \n",
       "2                    2788  \n",
       "31                  44200  \n",
       "39                    100  \n",
       "41                 393371  \n",
       "42                  50000  \n",
       "49                 100000  \n",
       "55                  74128  \n",
       "70                  50219  \n",
       "89                  50000  \n",
       "90                   5000  \n",
       "107                100000  \n",
       "133                 50000  \n",
       "147                 50000  \n",
       "176                 50000  \n",
       "209                 47128  \n",
       "215                 50374  \n",
       "235                 19369  \n",
       "288                 45870  \n",
       "315                 50000  \n",
       "373                 98348  \n",
       "376                 47522  \n",
       "380                 11886  \n",
       "382                 12006  \n",
       "389                 48478  \n",
       "402                 35308  \n",
       "415                 25006  \n",
       "454                 50000  \n",
       "466                 50000  \n",
       "474                  9446  \n",
       "...                   ...  \n",
       "1139                47608  \n",
       "1276                50000  \n",
       "1415                50000  \n",
       "1532                32830  \n",
       "1540                 1000  \n",
       "1579                 2272  \n",
       "1854                54950  \n",
       "1937                38828  \n",
       "1999                51394  \n",
       "2042                64482  \n",
       "2109                 4432  \n",
       "2113                36420  \n",
       "2150                45000  \n",
       "2163                35640  \n",
       "2166                 2000  \n",
       "2178                48348  \n",
       "2187                54848  \n",
       "2222                 5484  \n",
       "2223                22832  \n",
       "2287                 2123  \n",
       "2324              3610288  \n",
       "2510               108384  \n",
       "2560                27312  \n",
       "2593                50000  \n",
       "2598                38908  \n",
       "2610                49174  \n",
       "2612                50000  \n",
       "2619                19438  \n",
       "2675                43392  \n",
       "2703                84656  \n",
       "\n",
       "[80 rows x 3 columns]"
      ]
     },
     "execution_count": 7,
     "metadata": {},
     "output_type": "execute_result"
    }
   ],
   "source": [
    "hayrdb1[hayrdb1.user_current_points >0]"
   ]
  },
  {
   "cell_type": "code",
   "execution_count": 10,
   "metadata": {},
   "outputs": [],
   "source": [
    "hayrdb2 = pd.read_csv('/home/dineshb/Downloads/fwdhayrdata/writeData.csv')"
   ]
  },
  {
   "cell_type": "code",
   "execution_count": 11,
   "metadata": {},
   "outputs": [
    {
     "data": {
      "text/html": [
       "<div>\n",
       "<style scoped>\n",
       "    .dataframe tbody tr th:only-of-type {\n",
       "        vertical-align: middle;\n",
       "    }\n",
       "\n",
       "    .dataframe tbody tr th {\n",
       "        vertical-align: top;\n",
       "    }\n",
       "\n",
       "    .dataframe thead th {\n",
       "        text-align: right;\n",
       "    }\n",
       "</style>\n",
       "<table border=\"1\" class=\"dataframe\">\n",
       "  <thead>\n",
       "    <tr style=\"text-align: right;\">\n",
       "      <th></th>\n",
       "      <th>name</th>\n",
       "      <th>start_time</th>\n",
       "      <th>end_time</th>\n",
       "      <th>vehicle</th>\n",
       "      <th>amount</th>\n",
       "    </tr>\n",
       "  </thead>\n",
       "  <tbody>\n",
       "    <tr>\n",
       "      <th>0</th>\n",
       "      <td>rajesh kumar</td>\n",
       "      <td>2019-06-03T08:50:30.850092Z</td>\n",
       "      <td>2019-06-03T09:29:56.322733Z</td>\n",
       "      <td>PB01N 0816</td>\n",
       "      <td>322.14</td>\n",
       "    </tr>\n",
       "    <tr>\n",
       "      <th>1</th>\n",
       "      <td>Divyanshu Malhotra</td>\n",
       "      <td>NaN</td>\n",
       "      <td>NaN</td>\n",
       "      <td>PB01N 0780</td>\n",
       "      <td>NaN</td>\n",
       "    </tr>\n",
       "    <tr>\n",
       "      <th>2</th>\n",
       "      <td>Gurbir Singh Lancer</td>\n",
       "      <td>2019-05-18T14:54:59.390599Z</td>\n",
       "      <td>2019-05-18T15:13:48.921308Z</td>\n",
       "      <td>PB01N 0790</td>\n",
       "      <td>16.93</td>\n",
       "    </tr>\n",
       "    <tr>\n",
       "      <th>3</th>\n",
       "      <td>DEVENDER KUMAR</td>\n",
       "      <td>2019-04-24T01:02:09.795317Z</td>\n",
       "      <td>2019-04-24T05:26:39.476784Z</td>\n",
       "      <td>PB01N 0822</td>\n",
       "      <td>489.94</td>\n",
       "    </tr>\n",
       "    <tr>\n",
       "      <th>4</th>\n",
       "      <td>DEVENDER KUMAR</td>\n",
       "      <td>2019-05-02T08:57:03.661801Z</td>\n",
       "      <td>2019-05-02T08:59:39.813995Z</td>\n",
       "      <td>PB01N 0822</td>\n",
       "      <td>11.80</td>\n",
       "    </tr>\n",
       "    <tr>\n",
       "      <th>5</th>\n",
       "      <td>Lokesh Malik</td>\n",
       "      <td>2019-06-09T15:58:40.349236Z</td>\n",
       "      <td>2019-06-10T13:05:28.082566Z</td>\n",
       "      <td>PB01N 0782</td>\n",
       "      <td>1417.92</td>\n",
       "    </tr>\n",
       "    <tr>\n",
       "      <th>6</th>\n",
       "      <td>Divyanshu Malhotra</td>\n",
       "      <td>2019-05-28T05:33:29.226589Z</td>\n",
       "      <td>2019-05-28T05:33:42.345254Z</td>\n",
       "      <td>PB01N 0797</td>\n",
       "      <td>2.24</td>\n",
       "    </tr>\n",
       "    <tr>\n",
       "      <th>7</th>\n",
       "      <td>Mohit Dubey</td>\n",
       "      <td>NaN</td>\n",
       "      <td>NaN</td>\n",
       "      <td>PB01N 0812</td>\n",
       "      <td>NaN</td>\n",
       "    </tr>\n",
       "    <tr>\n",
       "      <th>8</th>\n",
       "      <td>DEVENDER KUMAR</td>\n",
       "      <td>2019-04-27T05:34:33.968944Z</td>\n",
       "      <td>2019-04-27T05:34:59.378420Z</td>\n",
       "      <td>PB01N 0822</td>\n",
       "      <td>NaN</td>\n",
       "    </tr>\n",
       "    <tr>\n",
       "      <th>9</th>\n",
       "      <td>Love Preet Singh</td>\n",
       "      <td>NaN</td>\n",
       "      <td>NaN</td>\n",
       "      <td>PB01N 0788</td>\n",
       "      <td>NaN</td>\n",
       "    </tr>\n",
       "    <tr>\n",
       "      <th>10</th>\n",
       "      <td>Harpreet Singh Grewal</td>\n",
       "      <td>2019-05-24T07:14:00Z</td>\n",
       "      <td>2019-06-03T06:25:36Z</td>\n",
       "      <td>PB01N 0812</td>\n",
       "      <td>NaN</td>\n",
       "    </tr>\n",
       "    <tr>\n",
       "      <th>11</th>\n",
       "      <td>Vishavdeep singh</td>\n",
       "      <td>2019-04-26T15:24:20.371690Z</td>\n",
       "      <td>2019-04-26T15:25:13.174615Z</td>\n",
       "      <td>PB01N 0779</td>\n",
       "      <td>8.26</td>\n",
       "    </tr>\n",
       "    <tr>\n",
       "      <th>12</th>\n",
       "      <td>DEVENDER KUMAR</td>\n",
       "      <td>NaN</td>\n",
       "      <td>NaN</td>\n",
       "      <td>PB01N 0776</td>\n",
       "      <td>NaN</td>\n",
       "    </tr>\n",
       "    <tr>\n",
       "      <th>13</th>\n",
       "      <td>Mohit Dubey</td>\n",
       "      <td>2019-06-05T19:46:57.907518Z</td>\n",
       "      <td>2019-06-05T19:47:07.499708Z</td>\n",
       "      <td>PB01N 0797</td>\n",
       "      <td>NaN</td>\n",
       "    </tr>\n",
       "    <tr>\n",
       "      <th>14</th>\n",
       "      <td>Sahil Rajanwal</td>\n",
       "      <td>2019-06-15T10:50:55.798458Z</td>\n",
       "      <td>2019-06-15T17:44:48.557531Z</td>\n",
       "      <td>PB01N 0821</td>\n",
       "      <td>2299.82</td>\n",
       "    </tr>\n",
       "    <tr>\n",
       "      <th>15</th>\n",
       "      <td>harjeet singh</td>\n",
       "      <td>2019-04-22T06:41:56.261944Z</td>\n",
       "      <td>2019-04-22T06:42:50.397012Z</td>\n",
       "      <td>PB01N 0771</td>\n",
       "      <td>59.00</td>\n",
       "    </tr>\n",
       "    <tr>\n",
       "      <th>16</th>\n",
       "      <td>Mohit Dubey</td>\n",
       "      <td>2019-06-18T09:26:20.880063Z</td>\n",
       "      <td>2019-06-18T09:27:24.995994Z</td>\n",
       "      <td>PB01N 0798</td>\n",
       "      <td>8.26</td>\n",
       "    </tr>\n",
       "    <tr>\n",
       "      <th>17</th>\n",
       "      <td>Mohit Dubey</td>\n",
       "      <td>NaN</td>\n",
       "      <td>NaN</td>\n",
       "      <td>PB01N 0782</td>\n",
       "      <td>90.86</td>\n",
       "    </tr>\n",
       "    <tr>\n",
       "      <th>18</th>\n",
       "      <td>sharry mann</td>\n",
       "      <td>2019-05-03T11:02:34.769632Z</td>\n",
       "      <td>2019-05-03T21:56:16.404578Z</td>\n",
       "      <td>PB01N 0781</td>\n",
       "      <td>2385.96</td>\n",
       "    </tr>\n",
       "    <tr>\n",
       "      <th>19</th>\n",
       "      <td>Divyanshu Malhotra</td>\n",
       "      <td>2019-06-20T11:47:46.394263Z</td>\n",
       "      <td>2019-06-20T11:48:26.728816Z</td>\n",
       "      <td>PB01N 0776</td>\n",
       "      <td>NaN</td>\n",
       "    </tr>\n",
       "    <tr>\n",
       "      <th>20</th>\n",
       "      <td>Nitesh Kumar</td>\n",
       "      <td>2019-06-11T07:29:46.804849Z</td>\n",
       "      <td>2019-06-11T07:29:50.005553Z</td>\n",
       "      <td>PB01N 0802</td>\n",
       "      <td>49.56</td>\n",
       "    </tr>\n",
       "    <tr>\n",
       "      <th>21</th>\n",
       "      <td>Lokesh Malik</td>\n",
       "      <td>2019-06-21T12:51:27.368251Z</td>\n",
       "      <td>2019-06-21T12:59:13.973904Z</td>\n",
       "      <td>PB01N 0816</td>\n",
       "      <td>15.68</td>\n",
       "    </tr>\n",
       "    <tr>\n",
       "      <th>22</th>\n",
       "      <td>Surya Dev Singh</td>\n",
       "      <td>2019-05-18T09:31:34.302656Z</td>\n",
       "      <td>2019-05-18T09:42:02.155468Z</td>\n",
       "      <td>PB01N 0776</td>\n",
       "      <td>82.60</td>\n",
       "    </tr>\n",
       "    <tr>\n",
       "      <th>23</th>\n",
       "      <td>Risham Sasson</td>\n",
       "      <td>2019-07-21T07:31:19.099369Z</td>\n",
       "      <td>2019-07-21T07:38:17.913326Z</td>\n",
       "      <td>PB01N 0796</td>\n",
       "      <td>33.60</td>\n",
       "    </tr>\n",
       "    <tr>\n",
       "      <th>24</th>\n",
       "      <td>pardeep poonia</td>\n",
       "      <td>NaN</td>\n",
       "      <td>NaN</td>\n",
       "      <td>PB01N 0783</td>\n",
       "      <td>NaN</td>\n",
       "    </tr>\n",
       "    <tr>\n",
       "      <th>25</th>\n",
       "      <td>DEVENDER KUMAR</td>\n",
       "      <td>2019-04-24T05:44:42.972874Z</td>\n",
       "      <td>2019-04-24T05:49:36.904597Z</td>\n",
       "      <td>PB01N 0822</td>\n",
       "      <td>11.80</td>\n",
       "    </tr>\n",
       "    <tr>\n",
       "      <th>26</th>\n",
       "      <td>Gurbir Singh Lancer</td>\n",
       "      <td>2019-05-18T16:24:21.173495Z</td>\n",
       "      <td>2019-05-18T17:09:02.953930Z</td>\n",
       "      <td>PB01N 0790</td>\n",
       "      <td>41.40</td>\n",
       "    </tr>\n",
       "    <tr>\n",
       "      <th>27</th>\n",
       "      <td>Risham Sasson</td>\n",
       "      <td>2019-04-21T13:38:40.039837Z</td>\n",
       "      <td>2019-04-21T14:16:55.598493Z</td>\n",
       "      <td>PB01N 0771</td>\n",
       "      <td>10326.18</td>\n",
       "    </tr>\n",
       "    <tr>\n",
       "      <th>28</th>\n",
       "      <td>harjeet singh</td>\n",
       "      <td>2019-04-25T16:05:31.952343Z</td>\n",
       "      <td>2019-04-25T16:18:12.353611Z</td>\n",
       "      <td>PB01N 0771</td>\n",
       "      <td>25.96</td>\n",
       "    </tr>\n",
       "    <tr>\n",
       "      <th>29</th>\n",
       "      <td>DEVENDER KUMAR</td>\n",
       "      <td>2019-04-27T05:36:45.763041Z</td>\n",
       "      <td>2019-04-27T05:38:18.555963Z</td>\n",
       "      <td>PB01N 0822</td>\n",
       "      <td>2.36</td>\n",
       "    </tr>\n",
       "    <tr>\n",
       "      <th>...</th>\n",
       "      <td>...</td>\n",
       "      <td>...</td>\n",
       "      <td>...</td>\n",
       "      <td>...</td>\n",
       "      <td>...</td>\n",
       "    </tr>\n",
       "    <tr>\n",
       "      <th>614</th>\n",
       "      <td>harjeet singh</td>\n",
       "      <td>2019-08-16T14:14:17.434047Z</td>\n",
       "      <td>2019-08-16T14:14:33.780378Z</td>\n",
       "      <td>PB01N 0810</td>\n",
       "      <td>NaN</td>\n",
       "    </tr>\n",
       "    <tr>\n",
       "      <th>615</th>\n",
       "      <td>Shubham Narang</td>\n",
       "      <td>2019-08-14T11:27:17.875035Z</td>\n",
       "      <td>2019-08-17T01:47:37.805436Z</td>\n",
       "      <td>PB01N 0802</td>\n",
       "      <td>4188.80</td>\n",
       "    </tr>\n",
       "    <tr>\n",
       "      <th>616</th>\n",
       "      <td>Lokesh Malik</td>\n",
       "      <td>2019-08-20T15:20:14.389435Z</td>\n",
       "      <td>2019-08-20T16:04:09.549798Z</td>\n",
       "      <td>PB01N 0791</td>\n",
       "      <td>98.56</td>\n",
       "    </tr>\n",
       "    <tr>\n",
       "      <th>617</th>\n",
       "      <td>Pawan Kumar</td>\n",
       "      <td>2019-08-18T11:47:05.962814Z</td>\n",
       "      <td>2019-08-18T15:41:07.098289Z</td>\n",
       "      <td>PB01N 0819</td>\n",
       "      <td>1656.72</td>\n",
       "    </tr>\n",
       "    <tr>\n",
       "      <th>618</th>\n",
       "      <td>Sandeep Rana</td>\n",
       "      <td>NaN</td>\n",
       "      <td>NaN</td>\n",
       "      <td>PB01N 0816</td>\n",
       "      <td>NaN</td>\n",
       "    </tr>\n",
       "    <tr>\n",
       "      <th>619</th>\n",
       "      <td>pradip sharma</td>\n",
       "      <td>2019-08-17T14:43:42.852886Z</td>\n",
       "      <td>2019-08-18T23:58:49.422822Z</td>\n",
       "      <td>PB01N 0823</td>\n",
       "      <td>2234.40</td>\n",
       "    </tr>\n",
       "    <tr>\n",
       "      <th>620</th>\n",
       "      <td>Gaurav Bharti</td>\n",
       "      <td>2019-08-20T06:57:32.687563Z</td>\n",
       "      <td>2019-08-20T08:39:24.386228Z</td>\n",
       "      <td>PB01N 0788</td>\n",
       "      <td>361.08</td>\n",
       "    </tr>\n",
       "    <tr>\n",
       "      <th>621</th>\n",
       "      <td>Gaurav Bharti</td>\n",
       "      <td>2019-08-20T08:44:21.760083Z</td>\n",
       "      <td>2019-08-20T09:02:12.153426Z</td>\n",
       "      <td>PB01N 0788</td>\n",
       "      <td>76.70</td>\n",
       "    </tr>\n",
       "    <tr>\n",
       "      <th>622</th>\n",
       "      <td>Lokesh Malik</td>\n",
       "      <td>2019-08-22T14:53:12.228940Z</td>\n",
       "      <td>2019-08-22T16:38:11.780362Z</td>\n",
       "      <td>PB01N 0791</td>\n",
       "      <td>235.20</td>\n",
       "    </tr>\n",
       "    <tr>\n",
       "      <th>623</th>\n",
       "      <td>Lokesh Malik</td>\n",
       "      <td>2019-08-22T14:41:15.343630Z</td>\n",
       "      <td>2019-08-22T14:42:14.358221Z</td>\n",
       "      <td>PB01N 0791</td>\n",
       "      <td>2.24</td>\n",
       "    </tr>\n",
       "    <tr>\n",
       "      <th>624</th>\n",
       "      <td>Lokesh Malik</td>\n",
       "      <td>2019-08-22T14:45:34.746260Z</td>\n",
       "      <td>2019-08-22T14:46:18.198242Z</td>\n",
       "      <td>PB01N 0791</td>\n",
       "      <td>NaN</td>\n",
       "    </tr>\n",
       "    <tr>\n",
       "      <th>625</th>\n",
       "      <td>Jatin Sachdeva</td>\n",
       "      <td>NaN</td>\n",
       "      <td>NaN</td>\n",
       "      <td>PB01N 0792</td>\n",
       "      <td>NaN</td>\n",
       "    </tr>\n",
       "    <tr>\n",
       "      <th>626</th>\n",
       "      <td>Jatin Sachdeva</td>\n",
       "      <td>NaN</td>\n",
       "      <td>NaN</td>\n",
       "      <td>PB01N 0792</td>\n",
       "      <td>NaN</td>\n",
       "    </tr>\n",
       "    <tr>\n",
       "      <th>627</th>\n",
       "      <td>Vinod Kumar</td>\n",
       "      <td>2019-08-18T11:58:58.795565Z</td>\n",
       "      <td>2019-08-18T12:29:26.289837Z</td>\n",
       "      <td>PB01N 0798</td>\n",
       "      <td>240.72</td>\n",
       "    </tr>\n",
       "    <tr>\n",
       "      <th>628</th>\n",
       "      <td>Jatin Sachdeva</td>\n",
       "      <td>2019-08-13T06:44:14.393469Z</td>\n",
       "      <td>2019-08-13T08:25:14.625340Z</td>\n",
       "      <td>PB01N 0788</td>\n",
       "      <td>628.94</td>\n",
       "    </tr>\n",
       "    <tr>\n",
       "      <th>629</th>\n",
       "      <td>Pawan Kumar</td>\n",
       "      <td>NaN</td>\n",
       "      <td>NaN</td>\n",
       "      <td>PB01N 0809</td>\n",
       "      <td>223.02</td>\n",
       "    </tr>\n",
       "    <tr>\n",
       "      <th>630</th>\n",
       "      <td>Gaurav Bharti</td>\n",
       "      <td>2019-08-14T08:46:04.828530Z</td>\n",
       "      <td>2019-08-14T08:47:30.621032Z</td>\n",
       "      <td>PB01N 0787</td>\n",
       "      <td>8.26</td>\n",
       "    </tr>\n",
       "    <tr>\n",
       "      <th>631</th>\n",
       "      <td>Shubham Narang</td>\n",
       "      <td>NaN</td>\n",
       "      <td>NaN</td>\n",
       "      <td>PB01N 0802</td>\n",
       "      <td>NaN</td>\n",
       "    </tr>\n",
       "    <tr>\n",
       "      <th>632</th>\n",
       "      <td>harjeet singh</td>\n",
       "      <td>2019-08-19T17:44:31.763338Z</td>\n",
       "      <td>NaN</td>\n",
       "      <td>PB01N 0798</td>\n",
       "      <td>NaN</td>\n",
       "    </tr>\n",
       "    <tr>\n",
       "      <th>633</th>\n",
       "      <td>shubham kumar</td>\n",
       "      <td>2019-08-17T05:16:49.375294Z</td>\n",
       "      <td>2019-08-17T13:48:02.814315Z</td>\n",
       "      <td>PB01N 0788</td>\n",
       "      <td>576.80</td>\n",
       "    </tr>\n",
       "    <tr>\n",
       "      <th>634</th>\n",
       "      <td>shubham kumar</td>\n",
       "      <td>2019-08-14T18:43:29.986528Z</td>\n",
       "      <td>2019-08-14T18:44:17.386381Z</td>\n",
       "      <td>PB01N 0796</td>\n",
       "      <td>NaN</td>\n",
       "    </tr>\n",
       "    <tr>\n",
       "      <th>635</th>\n",
       "      <td>Sandeep Rana</td>\n",
       "      <td>NaN</td>\n",
       "      <td>NaN</td>\n",
       "      <td>PB01N 0816</td>\n",
       "      <td>NaN</td>\n",
       "    </tr>\n",
       "    <tr>\n",
       "      <th>636</th>\n",
       "      <td>shubham kumar</td>\n",
       "      <td>2019-08-15T09:54:16.716100Z</td>\n",
       "      <td>2019-08-15T17:19:46.062871Z</td>\n",
       "      <td>PB01N 0788</td>\n",
       "      <td>498.40</td>\n",
       "    </tr>\n",
       "    <tr>\n",
       "      <th>637</th>\n",
       "      <td>pradip sharma</td>\n",
       "      <td>2019-08-14T14:49:51.385923Z</td>\n",
       "      <td>2019-08-16T03:48:47.865952Z</td>\n",
       "      <td>PB01N 0823</td>\n",
       "      <td>2485.28</td>\n",
       "    </tr>\n",
       "    <tr>\n",
       "      <th>638</th>\n",
       "      <td>Sandeep Rana</td>\n",
       "      <td>NaN</td>\n",
       "      <td>NaN</td>\n",
       "      <td>PB01N 0799</td>\n",
       "      <td>NaN</td>\n",
       "    </tr>\n",
       "    <tr>\n",
       "      <th>639</th>\n",
       "      <td>Pawan Kumar</td>\n",
       "      <td>2019-08-22T06:19:33.543194Z</td>\n",
       "      <td>2019-08-22T10:24:42.109096Z</td>\n",
       "      <td>PB01N 0819</td>\n",
       "      <td>1445.50</td>\n",
       "    </tr>\n",
       "    <tr>\n",
       "      <th>640</th>\n",
       "      <td>Gaurav Bharti</td>\n",
       "      <td>2019-08-20T08:40:37.445958Z</td>\n",
       "      <td>2019-08-20T08:43:17.943277Z</td>\n",
       "      <td>PB01N 0788</td>\n",
       "      <td>16.52</td>\n",
       "    </tr>\n",
       "    <tr>\n",
       "      <th>641</th>\n",
       "      <td>Gaurav Bharti</td>\n",
       "      <td>2019-08-20T09:35:07.280771Z</td>\n",
       "      <td>2019-08-20T11:36:48.253354Z</td>\n",
       "      <td>PB01N 0791</td>\n",
       "      <td>856.68</td>\n",
       "    </tr>\n",
       "    <tr>\n",
       "      <th>642</th>\n",
       "      <td>Lokesh Malik</td>\n",
       "      <td>2019-08-22T14:42:52.740200Z</td>\n",
       "      <td>2019-08-22T14:43:59.285763Z</td>\n",
       "      <td>PB01N 0791</td>\n",
       "      <td>2.24</td>\n",
       "    </tr>\n",
       "    <tr>\n",
       "      <th>643</th>\n",
       "      <td>Lokesh Malik</td>\n",
       "      <td>2019-08-22T14:46:54.475581Z</td>\n",
       "      <td>2019-08-22T14:47:34.388522Z</td>\n",
       "      <td>PB01N 0791</td>\n",
       "      <td>NaN</td>\n",
       "    </tr>\n",
       "  </tbody>\n",
       "</table>\n",
       "<p>644 rows × 5 columns</p>\n",
       "</div>"
      ],
      "text/plain": [
       "                      name                   start_time  \\\n",
       "0             rajesh kumar  2019-06-03T08:50:30.850092Z   \n",
       "1       Divyanshu Malhotra                          NaN   \n",
       "2      Gurbir Singh Lancer  2019-05-18T14:54:59.390599Z   \n",
       "3           DEVENDER KUMAR  2019-04-24T01:02:09.795317Z   \n",
       "4           DEVENDER KUMAR  2019-05-02T08:57:03.661801Z   \n",
       "5             Lokesh Malik  2019-06-09T15:58:40.349236Z   \n",
       "6       Divyanshu Malhotra  2019-05-28T05:33:29.226589Z   \n",
       "7              Mohit Dubey                          NaN   \n",
       "8           DEVENDER KUMAR  2019-04-27T05:34:33.968944Z   \n",
       "9         Love Preet Singh                          NaN   \n",
       "10   Harpreet Singh Grewal         2019-05-24T07:14:00Z   \n",
       "11        Vishavdeep singh  2019-04-26T15:24:20.371690Z   \n",
       "12          DEVENDER KUMAR                          NaN   \n",
       "13             Mohit Dubey  2019-06-05T19:46:57.907518Z   \n",
       "14          Sahil Rajanwal  2019-06-15T10:50:55.798458Z   \n",
       "15           harjeet singh  2019-04-22T06:41:56.261944Z   \n",
       "16             Mohit Dubey  2019-06-18T09:26:20.880063Z   \n",
       "17             Mohit Dubey                          NaN   \n",
       "18             sharry mann  2019-05-03T11:02:34.769632Z   \n",
       "19      Divyanshu Malhotra  2019-06-20T11:47:46.394263Z   \n",
       "20            Nitesh Kumar  2019-06-11T07:29:46.804849Z   \n",
       "21            Lokesh Malik  2019-06-21T12:51:27.368251Z   \n",
       "22         Surya Dev Singh  2019-05-18T09:31:34.302656Z   \n",
       "23           Risham Sasson  2019-07-21T07:31:19.099369Z   \n",
       "24          pardeep poonia                          NaN   \n",
       "25          DEVENDER KUMAR  2019-04-24T05:44:42.972874Z   \n",
       "26     Gurbir Singh Lancer  2019-05-18T16:24:21.173495Z   \n",
       "27           Risham Sasson  2019-04-21T13:38:40.039837Z   \n",
       "28           harjeet singh  2019-04-25T16:05:31.952343Z   \n",
       "29          DEVENDER KUMAR  2019-04-27T05:36:45.763041Z   \n",
       "..                     ...                          ...   \n",
       "614          harjeet singh  2019-08-16T14:14:17.434047Z   \n",
       "615         Shubham Narang  2019-08-14T11:27:17.875035Z   \n",
       "616           Lokesh Malik  2019-08-20T15:20:14.389435Z   \n",
       "617            Pawan Kumar  2019-08-18T11:47:05.962814Z   \n",
       "618           Sandeep Rana                          NaN   \n",
       "619          pradip sharma  2019-08-17T14:43:42.852886Z   \n",
       "620          Gaurav Bharti  2019-08-20T06:57:32.687563Z   \n",
       "621          Gaurav Bharti  2019-08-20T08:44:21.760083Z   \n",
       "622           Lokesh Malik  2019-08-22T14:53:12.228940Z   \n",
       "623           Lokesh Malik  2019-08-22T14:41:15.343630Z   \n",
       "624           Lokesh Malik  2019-08-22T14:45:34.746260Z   \n",
       "625         Jatin Sachdeva                          NaN   \n",
       "626         Jatin Sachdeva                          NaN   \n",
       "627            Vinod Kumar  2019-08-18T11:58:58.795565Z   \n",
       "628         Jatin Sachdeva  2019-08-13T06:44:14.393469Z   \n",
       "629            Pawan Kumar                          NaN   \n",
       "630          Gaurav Bharti  2019-08-14T08:46:04.828530Z   \n",
       "631         Shubham Narang                          NaN   \n",
       "632          harjeet singh  2019-08-19T17:44:31.763338Z   \n",
       "633          shubham kumar  2019-08-17T05:16:49.375294Z   \n",
       "634          shubham kumar  2019-08-14T18:43:29.986528Z   \n",
       "635           Sandeep Rana                          NaN   \n",
       "636          shubham kumar  2019-08-15T09:54:16.716100Z   \n",
       "637          pradip sharma  2019-08-14T14:49:51.385923Z   \n",
       "638           Sandeep Rana                          NaN   \n",
       "639            Pawan Kumar  2019-08-22T06:19:33.543194Z   \n",
       "640          Gaurav Bharti  2019-08-20T08:40:37.445958Z   \n",
       "641          Gaurav Bharti  2019-08-20T09:35:07.280771Z   \n",
       "642           Lokesh Malik  2019-08-22T14:42:52.740200Z   \n",
       "643           Lokesh Malik  2019-08-22T14:46:54.475581Z   \n",
       "\n",
       "                        end_time     vehicle    amount  \n",
       "0    2019-06-03T09:29:56.322733Z  PB01N 0816    322.14  \n",
       "1                            NaN  PB01N 0780       NaN  \n",
       "2    2019-05-18T15:13:48.921308Z  PB01N 0790     16.93  \n",
       "3    2019-04-24T05:26:39.476784Z  PB01N 0822    489.94  \n",
       "4    2019-05-02T08:59:39.813995Z  PB01N 0822     11.80  \n",
       "5    2019-06-10T13:05:28.082566Z  PB01N 0782   1417.92  \n",
       "6    2019-05-28T05:33:42.345254Z  PB01N 0797      2.24  \n",
       "7                            NaN  PB01N 0812       NaN  \n",
       "8    2019-04-27T05:34:59.378420Z  PB01N 0822       NaN  \n",
       "9                            NaN  PB01N 0788       NaN  \n",
       "10          2019-06-03T06:25:36Z  PB01N 0812       NaN  \n",
       "11   2019-04-26T15:25:13.174615Z  PB01N 0779      8.26  \n",
       "12                           NaN  PB01N 0776       NaN  \n",
       "13   2019-06-05T19:47:07.499708Z  PB01N 0797       NaN  \n",
       "14   2019-06-15T17:44:48.557531Z  PB01N 0821   2299.82  \n",
       "15   2019-04-22T06:42:50.397012Z  PB01N 0771     59.00  \n",
       "16   2019-06-18T09:27:24.995994Z  PB01N 0798      8.26  \n",
       "17                           NaN  PB01N 0782     90.86  \n",
       "18   2019-05-03T21:56:16.404578Z  PB01N 0781   2385.96  \n",
       "19   2019-06-20T11:48:26.728816Z  PB01N 0776       NaN  \n",
       "20   2019-06-11T07:29:50.005553Z  PB01N 0802     49.56  \n",
       "21   2019-06-21T12:59:13.973904Z  PB01N 0816     15.68  \n",
       "22   2019-05-18T09:42:02.155468Z  PB01N 0776     82.60  \n",
       "23   2019-07-21T07:38:17.913326Z  PB01N 0796     33.60  \n",
       "24                           NaN  PB01N 0783       NaN  \n",
       "25   2019-04-24T05:49:36.904597Z  PB01N 0822     11.80  \n",
       "26   2019-05-18T17:09:02.953930Z  PB01N 0790     41.40  \n",
       "27   2019-04-21T14:16:55.598493Z  PB01N 0771  10326.18  \n",
       "28   2019-04-25T16:18:12.353611Z  PB01N 0771     25.96  \n",
       "29   2019-04-27T05:38:18.555963Z  PB01N 0822      2.36  \n",
       "..                           ...         ...       ...  \n",
       "614  2019-08-16T14:14:33.780378Z  PB01N 0810       NaN  \n",
       "615  2019-08-17T01:47:37.805436Z  PB01N 0802   4188.80  \n",
       "616  2019-08-20T16:04:09.549798Z  PB01N 0791     98.56  \n",
       "617  2019-08-18T15:41:07.098289Z  PB01N 0819   1656.72  \n",
       "618                          NaN  PB01N 0816       NaN  \n",
       "619  2019-08-18T23:58:49.422822Z  PB01N 0823   2234.40  \n",
       "620  2019-08-20T08:39:24.386228Z  PB01N 0788    361.08  \n",
       "621  2019-08-20T09:02:12.153426Z  PB01N 0788     76.70  \n",
       "622  2019-08-22T16:38:11.780362Z  PB01N 0791    235.20  \n",
       "623  2019-08-22T14:42:14.358221Z  PB01N 0791      2.24  \n",
       "624  2019-08-22T14:46:18.198242Z  PB01N 0791       NaN  \n",
       "625                          NaN  PB01N 0792       NaN  \n",
       "626                          NaN  PB01N 0792       NaN  \n",
       "627  2019-08-18T12:29:26.289837Z  PB01N 0798    240.72  \n",
       "628  2019-08-13T08:25:14.625340Z  PB01N 0788    628.94  \n",
       "629                          NaN  PB01N 0809    223.02  \n",
       "630  2019-08-14T08:47:30.621032Z  PB01N 0787      8.26  \n",
       "631                          NaN  PB01N 0802       NaN  \n",
       "632                          NaN  PB01N 0798       NaN  \n",
       "633  2019-08-17T13:48:02.814315Z  PB01N 0788    576.80  \n",
       "634  2019-08-14T18:44:17.386381Z  PB01N 0796       NaN  \n",
       "635                          NaN  PB01N 0816       NaN  \n",
       "636  2019-08-15T17:19:46.062871Z  PB01N 0788    498.40  \n",
       "637  2019-08-16T03:48:47.865952Z  PB01N 0823   2485.28  \n",
       "638                          NaN  PB01N 0799       NaN  \n",
       "639  2019-08-22T10:24:42.109096Z  PB01N 0819   1445.50  \n",
       "640  2019-08-20T08:43:17.943277Z  PB01N 0788     16.52  \n",
       "641  2019-08-20T11:36:48.253354Z  PB01N 0791    856.68  \n",
       "642  2019-08-22T14:43:59.285763Z  PB01N 0791      2.24  \n",
       "643  2019-08-22T14:47:34.388522Z  PB01N 0791       NaN  \n",
       "\n",
       "[644 rows x 5 columns]"
      ]
     },
     "execution_count": 11,
     "metadata": {},
     "output_type": "execute_result"
    }
   ],
   "source": [
    "hayrdb2"
   ]
  },
  {
   "cell_type": "code",
   "execution_count": 19,
   "metadata": {},
   "outputs": [
    {
     "data": {
      "text/html": [
       "<div>\n",
       "<style scoped>\n",
       "    .dataframe tbody tr th:only-of-type {\n",
       "        vertical-align: middle;\n",
       "    }\n",
       "\n",
       "    .dataframe tbody tr th {\n",
       "        vertical-align: top;\n",
       "    }\n",
       "\n",
       "    .dataframe thead th {\n",
       "        text-align: right;\n",
       "    }\n",
       "</style>\n",
       "<table border=\"1\" class=\"dataframe\">\n",
       "  <thead>\n",
       "    <tr style=\"text-align: right;\">\n",
       "      <th></th>\n",
       "      <th>name</th>\n",
       "      <th>amount</th>\n",
       "    </tr>\n",
       "  </thead>\n",
       "  <tbody>\n",
       "    <tr>\n",
       "      <th>0</th>\n",
       "      <td>AMIT DUBEY</td>\n",
       "      <td>121253.2600</td>\n",
       "    </tr>\n",
       "    <tr>\n",
       "      <th>1</th>\n",
       "      <td>ANAND PRAKASH MADHUKAR</td>\n",
       "      <td>1545.8000</td>\n",
       "    </tr>\n",
       "    <tr>\n",
       "      <th>2</th>\n",
       "      <td>Ajay kumar</td>\n",
       "      <td>313.8800</td>\n",
       "    </tr>\n",
       "    <tr>\n",
       "      <th>3</th>\n",
       "      <td>Angrej Singh Dhaliwal</td>\n",
       "      <td>451.7400</td>\n",
       "    </tr>\n",
       "    <tr>\n",
       "      <th>4</th>\n",
       "      <td>Ankit Jatav</td>\n",
       "      <td>3590.7200</td>\n",
       "    </tr>\n",
       "    <tr>\n",
       "      <th>5</th>\n",
       "      <td>Ankita Kataria</td>\n",
       "      <td>371.7000</td>\n",
       "    </tr>\n",
       "    <tr>\n",
       "      <th>6</th>\n",
       "      <td>Anoop Rana</td>\n",
       "      <td>1032.5000</td>\n",
       "    </tr>\n",
       "    <tr>\n",
       "      <th>7</th>\n",
       "      <td>Anuj Aggarwal</td>\n",
       "      <td>24.7800</td>\n",
       "    </tr>\n",
       "    <tr>\n",
       "      <th>8</th>\n",
       "      <td>Anurag Chaudhary</td>\n",
       "      <td>8.2600</td>\n",
       "    </tr>\n",
       "    <tr>\n",
       "      <th>9</th>\n",
       "      <td>Arun jasrotia</td>\n",
       "      <td>4318.7200</td>\n",
       "    </tr>\n",
       "    <tr>\n",
       "      <th>10</th>\n",
       "      <td>Arush Dogra</td>\n",
       "      <td>4977.2800</td>\n",
       "    </tr>\n",
       "    <tr>\n",
       "      <th>11</th>\n",
       "      <td>Ashish Bijoria</td>\n",
       "      <td>110.9200</td>\n",
       "    </tr>\n",
       "    <tr>\n",
       "      <th>12</th>\n",
       "      <td>DEVENDER KUMAR</td>\n",
       "      <td>11441.0400</td>\n",
       "    </tr>\n",
       "    <tr>\n",
       "      <th>13</th>\n",
       "      <td>Daljit Singh</td>\n",
       "      <td>0.0000</td>\n",
       "    </tr>\n",
       "    <tr>\n",
       "      <th>14</th>\n",
       "      <td>Deepinder Saini</td>\n",
       "      <td>8743.8000</td>\n",
       "    </tr>\n",
       "    <tr>\n",
       "      <th>15</th>\n",
       "      <td>Divanshu Pandey</td>\n",
       "      <td>751.5200</td>\n",
       "    </tr>\n",
       "    <tr>\n",
       "      <th>16</th>\n",
       "      <td>Divyanshu Malhotra</td>\n",
       "      <td>28299.6000</td>\n",
       "    </tr>\n",
       "    <tr>\n",
       "      <th>17</th>\n",
       "      <td>Fok Devang</td>\n",
       "      <td>305.6200</td>\n",
       "    </tr>\n",
       "    <tr>\n",
       "      <th>18</th>\n",
       "      <td>Gaurav Bharti</td>\n",
       "      <td>1360.5400</td>\n",
       "    </tr>\n",
       "    <tr>\n",
       "      <th>19</th>\n",
       "      <td>Gurbir Singh Lancer</td>\n",
       "      <td>3030.6224</td>\n",
       "    </tr>\n",
       "    <tr>\n",
       "      <th>20</th>\n",
       "      <td>Gurvinder Singh</td>\n",
       "      <td>512.1200</td>\n",
       "    </tr>\n",
       "    <tr>\n",
       "      <th>21</th>\n",
       "      <td>Hari Bumi</td>\n",
       "      <td>1476.1800</td>\n",
       "    </tr>\n",
       "    <tr>\n",
       "      <th>22</th>\n",
       "      <td>Harpreet Singh Grewal</td>\n",
       "      <td>3753.1200</td>\n",
       "    </tr>\n",
       "    <tr>\n",
       "      <th>23</th>\n",
       "      <td>Jagdeep Singh</td>\n",
       "      <td>231.2800</td>\n",
       "    </tr>\n",
       "    <tr>\n",
       "      <th>24</th>\n",
       "      <td>Jatin Sachdeva</td>\n",
       "      <td>1273.2200</td>\n",
       "    </tr>\n",
       "    <tr>\n",
       "      <th>25</th>\n",
       "      <td>Joginder Singh</td>\n",
       "      <td>2135.8000</td>\n",
       "    </tr>\n",
       "    <tr>\n",
       "      <th>26</th>\n",
       "      <td>Karan phutela</td>\n",
       "      <td>756.7000</td>\n",
       "    </tr>\n",
       "    <tr>\n",
       "      <th>27</th>\n",
       "      <td>Krishan Kumar</td>\n",
       "      <td>188.8000</td>\n",
       "    </tr>\n",
       "    <tr>\n",
       "      <th>28</th>\n",
       "      <td>Kuldeep Singh</td>\n",
       "      <td>0.0000</td>\n",
       "    </tr>\n",
       "    <tr>\n",
       "      <th>29</th>\n",
       "      <td>Lokesh Malik</td>\n",
       "      <td>5706.5400</td>\n",
       "    </tr>\n",
       "    <tr>\n",
       "      <th>...</th>\n",
       "      <td>...</td>\n",
       "      <td>...</td>\n",
       "    </tr>\n",
       "    <tr>\n",
       "      <th>66</th>\n",
       "      <td>daisy grewal</td>\n",
       "      <td>2405.5500</td>\n",
       "    </tr>\n",
       "    <tr>\n",
       "      <th>67</th>\n",
       "      <td>dushant singh</td>\n",
       "      <td>7540.9600</td>\n",
       "    </tr>\n",
       "    <tr>\n",
       "      <th>68</th>\n",
       "      <td>gurnam singh</td>\n",
       "      <td>2144.5200</td>\n",
       "    </tr>\n",
       "    <tr>\n",
       "      <th>69</th>\n",
       "      <td>harjeet singh</td>\n",
       "      <td>11269.0000</td>\n",
       "    </tr>\n",
       "    <tr>\n",
       "      <th>70</th>\n",
       "      <td>jagdish kumar</td>\n",
       "      <td>232.4600</td>\n",
       "    </tr>\n",
       "    <tr>\n",
       "      <th>71</th>\n",
       "      <td>jagraj singh sekhon</td>\n",
       "      <td>0.0000</td>\n",
       "    </tr>\n",
       "    <tr>\n",
       "      <th>72</th>\n",
       "      <td>kaushik thukral</td>\n",
       "      <td>1700.1600</td>\n",
       "    </tr>\n",
       "    <tr>\n",
       "      <th>73</th>\n",
       "      <td>manjinder Singh</td>\n",
       "      <td>11227.7000</td>\n",
       "    </tr>\n",
       "    <tr>\n",
       "      <th>74</th>\n",
       "      <td>mohit sharma</td>\n",
       "      <td>8.2600</td>\n",
       "    </tr>\n",
       "    <tr>\n",
       "      <th>75</th>\n",
       "      <td>mukesh kumar</td>\n",
       "      <td>1980.1600</td>\n",
       "    </tr>\n",
       "    <tr>\n",
       "      <th>76</th>\n",
       "      <td>pardeep poonia</td>\n",
       "      <td>6737.8000</td>\n",
       "    </tr>\n",
       "    <tr>\n",
       "      <th>77</th>\n",
       "      <td>pawan kumar</td>\n",
       "      <td>355.1800</td>\n",
       "    </tr>\n",
       "    <tr>\n",
       "      <th>78</th>\n",
       "      <td>pradip sharma</td>\n",
       "      <td>4719.6800</td>\n",
       "    </tr>\n",
       "    <tr>\n",
       "      <th>79</th>\n",
       "      <td>rajesh kumar</td>\n",
       "      <td>1812.4800</td>\n",
       "    </tr>\n",
       "    <tr>\n",
       "      <th>80</th>\n",
       "      <td>ranjit saran</td>\n",
       "      <td>1062.0000</td>\n",
       "    </tr>\n",
       "    <tr>\n",
       "      <th>81</th>\n",
       "      <td>rohit negi</td>\n",
       "      <td>6338.0800</td>\n",
       "    </tr>\n",
       "    <tr>\n",
       "      <th>82</th>\n",
       "      <td>rubal chadha</td>\n",
       "      <td>115.6400</td>\n",
       "    </tr>\n",
       "    <tr>\n",
       "      <th>83</th>\n",
       "      <td>sahil saini</td>\n",
       "      <td>1158.7600</td>\n",
       "    </tr>\n",
       "    <tr>\n",
       "      <th>84</th>\n",
       "      <td>sandeep singh</td>\n",
       "      <td>941.6400</td>\n",
       "    </tr>\n",
       "    <tr>\n",
       "      <th>85</th>\n",
       "      <td>sehar ghavri</td>\n",
       "      <td>1024.2400</td>\n",
       "    </tr>\n",
       "    <tr>\n",
       "      <th>86</th>\n",
       "      <td>shalinder kumar</td>\n",
       "      <td>358.7200</td>\n",
       "    </tr>\n",
       "    <tr>\n",
       "      <th>87</th>\n",
       "      <td>sharry mann</td>\n",
       "      <td>5979.0600</td>\n",
       "    </tr>\n",
       "    <tr>\n",
       "      <th>88</th>\n",
       "      <td>shivam surya</td>\n",
       "      <td>2997.2000</td>\n",
       "    </tr>\n",
       "    <tr>\n",
       "      <th>89</th>\n",
       "      <td>shubham kumar</td>\n",
       "      <td>1948.4000</td>\n",
       "    </tr>\n",
       "    <tr>\n",
       "      <th>90</th>\n",
       "      <td>sohajpal singh</td>\n",
       "      <td>545.1600</td>\n",
       "    </tr>\n",
       "    <tr>\n",
       "      <th>91</th>\n",
       "      <td>som raj</td>\n",
       "      <td>49984.4000</td>\n",
       "    </tr>\n",
       "    <tr>\n",
       "      <th>92</th>\n",
       "      <td>sukhpal sharma</td>\n",
       "      <td>156.9400</td>\n",
       "    </tr>\n",
       "    <tr>\n",
       "      <th>93</th>\n",
       "      <td>sunil mendi</td>\n",
       "      <td>0.0000</td>\n",
       "    </tr>\n",
       "    <tr>\n",
       "      <th>94</th>\n",
       "      <td>tarun kumar</td>\n",
       "      <td>866.8800</td>\n",
       "    </tr>\n",
       "    <tr>\n",
       "      <th>95</th>\n",
       "      <td>vakeel ahmed</td>\n",
       "      <td>118.0000</td>\n",
       "    </tr>\n",
       "  </tbody>\n",
       "</table>\n",
       "<p>96 rows × 2 columns</p>\n",
       "</div>"
      ],
      "text/plain": [
       "                      name       amount\n",
       "0               AMIT DUBEY  121253.2600\n",
       "1   ANAND PRAKASH MADHUKAR    1545.8000\n",
       "2               Ajay kumar     313.8800\n",
       "3    Angrej Singh Dhaliwal     451.7400\n",
       "4              Ankit Jatav    3590.7200\n",
       "5           Ankita Kataria     371.7000\n",
       "6               Anoop Rana    1032.5000\n",
       "7            Anuj Aggarwal      24.7800\n",
       "8         Anurag Chaudhary       8.2600\n",
       "9            Arun jasrotia    4318.7200\n",
       "10             Arush Dogra    4977.2800\n",
       "11          Ashish Bijoria     110.9200\n",
       "12          DEVENDER KUMAR   11441.0400\n",
       "13            Daljit Singh       0.0000\n",
       "14         Deepinder Saini    8743.8000\n",
       "15         Divanshu Pandey     751.5200\n",
       "16      Divyanshu Malhotra   28299.6000\n",
       "17              Fok Devang     305.6200\n",
       "18           Gaurav Bharti    1360.5400\n",
       "19     Gurbir Singh Lancer    3030.6224\n",
       "20         Gurvinder Singh     512.1200\n",
       "21               Hari Bumi    1476.1800\n",
       "22   Harpreet Singh Grewal    3753.1200\n",
       "23           Jagdeep Singh     231.2800\n",
       "24          Jatin Sachdeva    1273.2200\n",
       "25          Joginder Singh    2135.8000\n",
       "26           Karan phutela     756.7000\n",
       "27           Krishan Kumar     188.8000\n",
       "28           Kuldeep Singh       0.0000\n",
       "29            Lokesh Malik    5706.5400\n",
       "..                     ...          ...\n",
       "66            daisy grewal    2405.5500\n",
       "67           dushant singh    7540.9600\n",
       "68            gurnam singh    2144.5200\n",
       "69           harjeet singh   11269.0000\n",
       "70           jagdish kumar     232.4600\n",
       "71     jagraj singh sekhon       0.0000\n",
       "72         kaushik thukral    1700.1600\n",
       "73         manjinder Singh   11227.7000\n",
       "74            mohit sharma       8.2600\n",
       "75            mukesh kumar    1980.1600\n",
       "76          pardeep poonia    6737.8000\n",
       "77             pawan kumar     355.1800\n",
       "78           pradip sharma    4719.6800\n",
       "79            rajesh kumar    1812.4800\n",
       "80            ranjit saran    1062.0000\n",
       "81              rohit negi    6338.0800\n",
       "82            rubal chadha     115.6400\n",
       "83             sahil saini    1158.7600\n",
       "84           sandeep singh     941.6400\n",
       "85            sehar ghavri    1024.2400\n",
       "86         shalinder kumar     358.7200\n",
       "87             sharry mann    5979.0600\n",
       "88            shivam surya    2997.2000\n",
       "89           shubham kumar    1948.4000\n",
       "90          sohajpal singh     545.1600\n",
       "91                 som raj   49984.4000\n",
       "92          sukhpal sharma     156.9400\n",
       "93             sunil mendi       0.0000\n",
       "94             tarun kumar     866.8800\n",
       "95            vakeel ahmed     118.0000\n",
       "\n",
       "[96 rows x 2 columns]"
      ]
     },
     "execution_count": 19,
     "metadata": {},
     "output_type": "execute_result"
    }
   ],
   "source": [
    "hayrdb2.groupby('name').sum().reset_index()"
   ]
  },
  {
   "cell_type": "code",
   "execution_count": 20,
   "metadata": {},
   "outputs": [
    {
     "data": {
      "text/plain": [
       "['A', 'B', 'C']"
      ]
     },
     "execution_count": 20,
     "metadata": {},
     "output_type": "execute_result"
    }
   ],
   "source": [
    "[chr(i) for i in [65,66,67]]"
   ]
  },
  {
   "cell_type": "code",
   "execution_count": 23,
   "metadata": {},
   "outputs": [
    {
     "name": "stdout",
     "output_type": "stream",
     "text": [
      "4 - 10\n",
      "False\n",
      "A(x: 12, y: 3)\n",
      "two\n",
      "0.0\n",
      "-0x2a\n"
     ]
    }
   ],
   "source": [
    "class A:\n",
    "    def __init__(self, a = 5):\n",
    "        self.a = a\n",
    "\n",
    "        def f1(self):\n",
    "            self.a += 10\n",
    "\n",
    "\n",
    "class B(A):\n",
    "    def __init__(self, b = 0):\n",
    "        A.__init__(self, 4)\n",
    "        self.b = b\n",
    "\n",
    "    def f1(self):\n",
    "        self.b += 10\n",
    "\n",
    "x = B()\n",
    "x.f1()\n",
    "print(x.a,'-', x.b)\n",
    "\n",
    "class A:\n",
    "    def __init__(self, x=5, y=4):\n",
    "        self.x = x\n",
    "        self.y = y\n",
    "\n",
    "    def __str__(self):\n",
    "        return 'A(x: {}, y: {})'.format(self.x, self.y)\n",
    "        \n",
    "    def __eq__(self, other):\n",
    "        return self.x * self.y == other.x * other.y\n",
    "     \n",
    "def f1():\n",
    "    a = A(12, 3)\n",
    "    b = A(3, 12)\n",
    "    if (a == b):\n",
    "        print(b != a)\n",
    "        print(a)\n",
    "\n",
    "f1()\n",
    "\n",
    "class A:\n",
    "    def __init__(self):\n",
    "        print('one')\n",
    "\n",
    "    def f(self):\n",
    "        print(float())\n",
    "        print(hex(-255))\n",
    "\n",
    "class B(A):\n",
    "    def __init__(self):\n",
    "        print('two')\n",
    "\n",
    "    def f(self):\n",
    "        print(float())\n",
    "        print(hex(-42))\n",
    "\n",
    "x = B()\n",
    "x.f()"
   ]
  },
  {
   "cell_type": "code",
   "execution_count": 27,
   "metadata": {},
   "outputs": [],
   "source": [
    "import sys"
   ]
  },
  {
   "cell_type": "code",
   "execution_count": 34,
   "metadata": {},
   "outputs": [
    {
     "name": "stdout",
     "output_type": "stream",
     "text": [
      "False\n",
      "A(x: 12, y: 3)\n"
     ]
    }
   ],
   "source": [
    "class A:\n",
    "    def __init__(self, x=5, y=4):\n",
    "        self.x = x\n",
    "        self.y = y\n",
    "\n",
    "    def __str__(self):\n",
    "        return 'A(x: {}, y: {})'.format(self.x, self.y)\n",
    "        \n",
    "    def __eq__(self, other):\n",
    "        return self.x * self.y == other.x * other.y\n",
    "     \n",
    "def f1():\n",
    "    a = A(12, 3)\n",
    "    b = A(3, 12)\n",
    "    if (a == b):\n",
    "        print(b != a)\n",
    "        print(a)\n",
    "\n",
    "f1()"
   ]
  },
  {
   "cell_type": "code",
   "execution_count": 33,
   "metadata": {},
   "outputs": [
    {
     "data": {
      "text/plain": [
       "[0, 1, 2]"
      ]
     },
     "execution_count": 33,
     "metadata": {},
     "output_type": "execute_result"
    }
   ],
   "source": [
    "[i**+1 for i in range(3)]"
   ]
  },
  {
   "cell_type": "code",
   "execution_count": 35,
   "metadata": {},
   "outputs": [
    {
     "data": {
      "text/plain": [
       "{'a': 'i', 'b': 'i', 'c': 'i', 'd': 'i'}"
      ]
     },
     "execution_count": 35,
     "metadata": {},
     "output_type": "execute_result"
    }
   ],
   "source": [
    "{i:j for i in \"abcd\" for j in \"kiwi\"}"
   ]
  },
  {
   "cell_type": "code",
   "execution_count": 36,
   "metadata": {},
   "outputs": [],
   "source": [
    "a = 'babacbd'"
   ]
  },
  {
   "cell_type": "code",
   "execution_count": 72,
   "metadata": {},
   "outputs": [
    {
     "data": {
      "text/plain": [
       "'a2b3c1d1'"
      ]
     },
     "execution_count": 72,
     "metadata": {},
     "output_type": "execute_result"
    }
   ],
   "source": [
    "c=[str(x)+str(a.count(x)) for x in a]\n",
    "c= list(set(c))\n",
    "c.sort()\n",
    "d=''.join(c)\n",
    "d"
   ]
  },
  {
   "cell_type": "code",
   "execution_count": 88,
   "metadata": {},
   "outputs": [],
   "source": [
    "e = {str(x):str(a.count(x)) for x in a}\n",
    "f=list(map(lambda x:x if int(e[x])>len(a)/2 else -1,e))"
   ]
  },
  {
   "cell_type": "code",
   "execution_count": 89,
   "metadata": {},
   "outputs": [
    {
     "data": {
      "text/plain": [
       "[-1, -1, -1, -1]"
      ]
     },
     "execution_count": 89,
     "metadata": {},
     "output_type": "execute_result"
    }
   ],
   "source": [
    "f"
   ]
  },
  {
   "cell_type": "code",
   "execution_count": 90,
   "metadata": {},
   "outputs": [],
   "source": [
    "import numpy"
   ]
  },
  {
   "cell_type": "code",
   "execution_count": 94,
   "metadata": {},
   "outputs": [],
   "source": [
    "m=numpy.matrix([[2,3,4],[5,6,7],[8,9,0]])"
   ]
  },
  {
   "cell_type": "code",
   "execution_count": 99,
   "metadata": {},
   "outputs": [
    {
     "data": {
      "text/plain": [
       "matrix([[8, 5, 2],\n",
       "        [9, 6, 3],\n",
       "        [0, 7, 4]])"
      ]
     },
     "execution_count": 99,
     "metadata": {},
     "output_type": "execute_result"
    }
   ],
   "source": [
    "numpy.rot90(numpy.rot90(numpy.rot90(m)))"
   ]
  },
  {
   "cell_type": "code",
   "execution_count": 100,
   "metadata": {},
   "outputs": [],
   "source": [
    "list2=[-8,-5,-3,-1,3,6,9]"
   ]
  },
  {
   "cell_type": "code",
   "execution_count": 101,
   "metadata": {},
   "outputs": [
    {
     "data": {
      "text/plain": [
       "[-1, -3, 3, -5, 6, -8, 9]"
      ]
     },
     "execution_count": 101,
     "metadata": {},
     "output_type": "execute_result"
    }
   ],
   "source": [
    "sorted(list2,key=abs)"
   ]
  },
  {
   "cell_type": "code",
   "execution_count": 102,
   "metadata": {},
   "outputs": [],
   "source": [
    "list3=[x for x in list2 if x<0]"
   ]
  },
  {
   "cell_type": "code",
   "execution_count": 103,
   "metadata": {},
   "outputs": [
    {
     "data": {
      "text/plain": [
       "[-8, -5, -3, -1]"
      ]
     },
     "execution_count": 103,
     "metadata": {},
     "output_type": "execute_result"
    }
   ],
   "source": [
    "list3"
   ]
  },
  {
   "cell_type": "code",
   "execution_count": 105,
   "metadata": {},
   "outputs": [],
   "source": [
    "pos_list=[x for x in list2 if x>0]"
   ]
  },
  {
   "cell_type": "code",
   "execution_count": 109,
   "metadata": {},
   "outputs": [],
   "source": [
    "temp_list=[x*-1 if x<0 else x for x in list2 ]"
   ]
  },
  {
   "cell_type": "code",
   "execution_count": 111,
   "metadata": {},
   "outputs": [],
   "source": [
    "temp_list.sort()"
   ]
  },
  {
   "cell_type": "code",
   "execution_count": 112,
   "metadata": {},
   "outputs": [
    {
     "data": {
      "text/plain": [
       "[1, 3, 3, 5, 6, 8, 9]"
      ]
     },
     "execution_count": 112,
     "metadata": {},
     "output_type": "execute_result"
    }
   ],
   "source": [
    "temp_list"
   ]
  },
  {
   "cell_type": "code",
   "execution_count": 115,
   "metadata": {},
   "outputs": [
    {
     "data": {
      "text/plain": [
       "[-1, -3, -3, -5, 6, -8, 9]"
      ]
     },
     "execution_count": 115,
     "metadata": {},
     "output_type": "execute_result"
    }
   ],
   "source": [
    "list_final = [x*-1 if x*-1 in list3 else x for x in temp_list]\n",
    "list_final"
   ]
  },
  {
   "cell_type": "code",
   "execution_count": 114,
   "metadata": {},
   "outputs": [
    {
     "data": {
      "text/plain": [
       "[-8, -5, -3, -1]"
      ]
     },
     "execution_count": 114,
     "metadata": {},
     "output_type": "execute_result"
    }
   ],
   "source": [
    "list3"
   ]
  },
  {
   "cell_type": "code",
   "execution_count": 118,
   "metadata": {},
   "outputs": [
    {
     "data": {
      "text/plain": [
       "' lv Ngrr'"
      ]
     },
     "execution_count": 118,
     "metadata": {},
     "output_type": "execute_result"
    }
   ],
   "source": [
    "input = \"I love Nagarro\"\n",
    "input = [x if x not in ['a','e','i','o','u','A','E','I','O','U'] else '' for x in input]\n",
    "''.join(input)"
   ]
  },
  {
   "cell_type": "code",
   "execution_count": 161,
   "metadata": {},
   "outputs": [],
   "source": [
    "date='01-13-1982'.split('-')"
   ]
  },
  {
   "cell_type": "code",
   "execution_count": 162,
   "metadata": {},
   "outputs": [],
   "source": [
    "import datetime"
   ]
  },
  {
   "cell_type": "code",
   "execution_count": 163,
   "metadata": {},
   "outputs": [
    {
     "data": {
      "text/plain": [
       "datetime.date(1982, 1, 13)"
      ]
     },
     "execution_count": 163,
     "metadata": {},
     "output_type": "execute_result"
    }
   ],
   "source": [
    "date= datetime.date(year=int(date[2]),month=int(date[0]),day=int(date[1]))\n",
    "date"
   ]
  },
  {
   "cell_type": "code",
   "execution_count": 164,
   "metadata": {},
   "outputs": [
    {
     "data": {
      "text/plain": [
       "datetime.date(1982, 1, 14)"
      ]
     },
     "execution_count": 164,
     "metadata": {},
     "output_type": "execute_result"
    }
   ],
   "source": [
    "date+datetime.timedelta(days=1)"
   ]
  },
  {
   "cell_type": "code",
   "execution_count": 186,
   "metadata": {},
   "outputs": [],
   "source": [
    "a=[1,2,3,4,5,6]\n",
    "b=[9,8,7]\n",
    "c=[10,12,15,17]\n",
    "d=[2,3,4,5,6,7]"
   ]
  },
  {
   "cell_type": "code",
   "execution_count": 187,
   "metadata": {},
   "outputs": [],
   "source": [
    "b.extend(c)\n",
    "a.extend(b)\n",
    "a.sort()"
   ]
  },
  {
   "cell_type": "code",
   "execution_count": 193,
   "metadata": {},
   "outputs": [
    {
     "data": {
      "text/plain": [
       "7"
      ]
     },
     "execution_count": 193,
     "metadata": {},
     "output_type": "execute_result"
    }
   ],
   "source": [
    "a[int(len(a)/2)]"
   ]
  },
  {
   "cell_type": "code",
   "execution_count": 199,
   "metadata": {},
   "outputs": [
    {
     "ename": "TypeError",
     "evalue": "'in <string>' requires string as left operand, not int",
     "output_type": "error",
     "traceback": [
      "\u001b[0;31m---------------------------------------------------------------------------\u001b[0m",
      "\u001b[0;31mTypeError\u001b[0m                                 Traceback (most recent call last)",
      "\u001b[0;32m<ipython-input-199-d4e21a1fd40a>\u001b[0m in \u001b[0;36m<module>\u001b[0;34m()\u001b[0m\n\u001b[0;32m----> 1\u001b[0;31m \u001b[0;34m[\u001b[0m\u001b[0;32mTrue\u001b[0m \u001b[0;32mif\u001b[0m \u001b[0mx\u001b[0m \u001b[0;32min\u001b[0m \u001b[0md\u001b[0m \u001b[0;32melse\u001b[0m \u001b[0;32mFalse\u001b[0m \u001b[0;32mfor\u001b[0m \u001b[0mx\u001b[0m \u001b[0;32min\u001b[0m \u001b[0ma\u001b[0m\u001b[0;34m]\u001b[0m\u001b[0;34m\u001b[0m\u001b[0m\n\u001b[0m",
      "\u001b[0;32m<ipython-input-199-d4e21a1fd40a>\u001b[0m in \u001b[0;36m<listcomp>\u001b[0;34m(.0)\u001b[0m\n\u001b[0;32m----> 1\u001b[0;31m \u001b[0;34m[\u001b[0m\u001b[0;32mTrue\u001b[0m \u001b[0;32mif\u001b[0m \u001b[0mx\u001b[0m \u001b[0;32min\u001b[0m \u001b[0md\u001b[0m \u001b[0;32melse\u001b[0m \u001b[0;32mFalse\u001b[0m \u001b[0;32mfor\u001b[0m \u001b[0mx\u001b[0m \u001b[0;32min\u001b[0m \u001b[0ma\u001b[0m\u001b[0;34m]\u001b[0m\u001b[0;34m\u001b[0m\u001b[0m\n\u001b[0m",
      "\u001b[0;31mTypeError\u001b[0m: 'in <string>' requires string as left operand, not int"
     ]
    }
   ],
   "source": [
    "[True if x in d else False for x in a]"
   ]
  },
  {
   "cell_type": "code",
   "execution_count": 6,
   "metadata": {},
   "outputs": [
    {
     "data": {
      "text/plain": [
       "4"
      ]
     },
     "execution_count": 6,
     "metadata": {},
     "output_type": "execute_result"
    }
   ],
   "source": [
    "'abcdefg'.find('e')"
   ]
  },
  {
   "cell_type": "code",
   "execution_count": 5,
   "metadata": {},
   "outputs": [
    {
     "name": "stdout",
     "output_type": "stream",
     "text": [
      "going\n",
      "well\n",
      "schoolbag\n"
     ]
    }
   ],
   "source": [
    "from spellchecker import SpellChecker\n",
    "\n",
    "spell = SpellChecker()\n",
    "\n",
    "# find those words that may be misspelled\n",
    "misspelled = spell.unknown(['schrol😀bag', 'si', 'giong', 'welll😅'])\n",
    "\n",
    "for word in misspelled:\n",
    "    # Get the one `most likely` answer\n",
    "    print(spell.correction(word))\n",
    "\n",
    "#     # Get a list of `likely` options\n",
    "#     print(spell.candidates(word))"
   ]
  },
  {
   "cell_type": "code",
   "execution_count": 58,
   "metadata": {},
   "outputs": [
    {
     "name": "stdout",
     "output_type": "stream",
     "text": [
      "{'missspelled'}\n"
     ]
    },
    {
     "data": {
      "text/plain": [
       "'misspelled'"
      ]
     },
     "execution_count": 58,
     "metadata": {},
     "output_type": "execute_result"
    }
   ],
   "source": [
    "spell = SpellChecker()\n",
    "\n",
    "arg1 = []\n",
    "arg1.append('missspelled')\n",
    "misspelled = spell.unknown(arg1)\n",
    "print(misspelled)\n",
    "for word in misspelled:\n",
    "    # Get the one `most likely` answer\n",
    "    correct_word = spell.correction(word)\n",
    "correct_word\n",
    "# load()\n",
    "# return segment('correct_word')"
   ]
  },
  {
   "cell_type": "code",
   "execution_count": 81,
   "metadata": {},
   "outputs": [
    {
     "name": "stdout",
     "output_type": "stream",
     "text": [
      " * Serving Flask app \"__main__\" (lazy loading)\n",
      " * Environment: production\n",
      "   WARNING: Do not use the development server in a production environment.\n",
      "   Use a production WSGI server instead.\n",
      " * Debug mode: off\n"
     ]
    },
    {
     "name": "stderr",
     "output_type": "stream",
     "text": [
      " * Running on http://0.0.0.0:5005/ (Press CTRL+C to quit)\n"
     ]
    },
    {
     "name": "stdout",
     "output_type": "stream",
     "text": [
      "['thisisdelh']\n",
      "{'thisisdelh'}\n",
      "thisisdelh\n"
     ]
    },
    {
     "name": "stderr",
     "output_type": "stream",
     "text": [
      "127.0.0.1 - - [17/Sep/2019 16:43:29] \"\u001b[37mPOST /spellCorrect HTTP/1.1\u001b[0m\" 200 -\n"
     ]
    },
    {
     "name": "stdout",
     "output_type": "stream",
     "text": [
      "['this', 'is', 'del', 'h']\n",
      "['thisisdelhi6']\n",
      "{'thisisdelhi6'}\n",
      "thisisdelhi6\n"
     ]
    },
    {
     "name": "stderr",
     "output_type": "stream",
     "text": [
      "127.0.0.1 - - [17/Sep/2019 16:44:00] \"\u001b[37mPOST /spellCorrect HTTP/1.1\u001b[0m\" 200 -\n"
     ]
    },
    {
     "name": "stdout",
     "output_type": "stream",
     "text": [
      "['this', 'is', 'delhi', '6']\n",
      "['homework😄']\n",
      "{'homework😄'}\n",
      "homework\n"
     ]
    },
    {
     "name": "stderr",
     "output_type": "stream",
     "text": [
      "127.0.0.1 - - [17/Sep/2019 16:45:35] \"\u001b[37mPOST /spellCorrect HTTP/1.1\u001b[0m\" 200 -\n"
     ]
    },
    {
     "name": "stdout",
     "output_type": "stream",
     "text": [
      "['homework']\n",
      "['homeWork😄']\n",
      "{'homework😄'}\n",
      "homework\n"
     ]
    },
    {
     "name": "stderr",
     "output_type": "stream",
     "text": [
      "127.0.0.1 - - [17/Sep/2019 16:45:56] \"\u001b[37mPOST /spellCorrect HTTP/1.1\u001b[0m\" 200 -\n"
     ]
    },
    {
     "name": "stdout",
     "output_type": "stream",
     "text": [
      "['homework']\n",
      "['home😄Work']\n",
      "{'home😄work'}\n",
      "homework\n"
     ]
    },
    {
     "name": "stderr",
     "output_type": "stream",
     "text": [
      "127.0.0.1 - - [17/Sep/2019 16:46:16] \"\u001b[37mPOST /spellCorrect HTTP/1.1\u001b[0m\" 200 -\n"
     ]
    },
    {
     "name": "stdout",
     "output_type": "stream",
     "text": [
      "['homework']\n",
      "['new😄officee😉']\n",
      "{'new😄officee😉'}\n",
      "new😄officee😉\n"
     ]
    },
    {
     "name": "stderr",
     "output_type": "stream",
     "text": [
      "127.0.0.1 - - [17/Sep/2019 16:46:58] \"\u001b[37mPOST /spellCorrect HTTP/1.1\u001b[0m\" 200 -\n"
     ]
    },
    {
     "name": "stdout",
     "output_type": "stream",
     "text": [
      "['new', 'office', 'e']\n",
      "['new😄officeer😉']\n",
      "{'new😄officeer😉'}\n",
      "new😄officeer😉\n"
     ]
    },
    {
     "name": "stderr",
     "output_type": "stream",
     "text": [
      "127.0.0.1 - - [17/Sep/2019 16:47:28] \"\u001b[37mPOST /spellCorrect HTTP/1.1\u001b[0m\" 200 -\n"
     ]
    },
    {
     "name": "stdout",
     "output_type": "stream",
     "text": [
      "['new', 'office', 'er']\n",
      "['new😄officerr😉']\n",
      "{'new😄officerr😉'}\n",
      "new😄officerr😉\n"
     ]
    },
    {
     "name": "stderr",
     "output_type": "stream",
     "text": [
      "127.0.0.1 - - [17/Sep/2019 16:47:54] \"\u001b[37mPOST /spellCorrect HTTP/1.1\u001b[0m\" 200 -\n"
     ]
    },
    {
     "name": "stdout",
     "output_type": "stream",
     "text": [
      "['new', 'officer', 'r']\n",
      "['new😄officar😉']\n",
      "{'new😄officar😉'}\n",
      "new😄officar😉\n"
     ]
    },
    {
     "name": "stderr",
     "output_type": "stream",
     "text": [
      "127.0.0.1 - - [17/Sep/2019 16:48:14] \"\u001b[37mPOST /spellCorrect HTTP/1.1\u001b[0m\" 200 -\n"
     ]
    },
    {
     "name": "stdout",
     "output_type": "stream",
     "text": [
      "['new', 'off', 'i', 'car']\n"
     ]
    }
   ],
   "source": [
    "from spellchecker import SpellChecker\n",
    "from flask import Flask\n",
    "from wordsegment import load, segment\n",
    "\n",
    "app = Flask(__name__)\n",
    "\n",
    "@app.route('/spellCorrect',methods = ['POST', 'GET'])\n",
    "def HaikuJam():\n",
    "    \n",
    "    spell = SpellChecker()\n",
    "    if request.method == 'POST':\n",
    "        word = request.get_json()\n",
    "        arg = [] \n",
    "        arg.append(word['word'])\n",
    "        print(arg)\n",
    "    else:\n",
    "        arg=[]\n",
    "        arg.append(request.args.get('arg'))\n",
    "        print(arg)\n",
    "\n",
    "    # find those words that may be misspelled\n",
    "    misspelled = spell.unknown(arg)\n",
    "    print(misspelled)\n",
    "    \n",
    "    correct_word=''\n",
    "    for word in misspelled:\n",
    "        # Get the one `most likely` answer\n",
    "        correct_word = spell.correction(word)\n",
    "    print(correct_word)\n",
    "    \n",
    "    load()\n",
    "    print(segment(correct_word))\n",
    "    return flask.jsonify(segment(correct_word))\n",
    "    \n",
    "\n",
    "if __name__ == '__main__':\n",
    "    app.run(host='0.0.0.0',port=5005)"
   ]
  },
  {
   "cell_type": "code",
   "execution_count": 48,
   "metadata": {},
   "outputs": [],
   "source": [
    "import flask\n",
    "flask.jsonify()"
   ]
  },
  {
   "cell_type": "code",
   "execution_count": 67,
   "metadata": {},
   "outputs": [],
   "source": [
    "a={'biger'}\n",
    "b=[]\n",
    "for x in a:\n",
    "    b.append(spell.correction(x))"
   ]
  },
  {
   "cell_type": "code",
   "execution_count": 69,
   "metadata": {},
   "outputs": [
    {
     "data": {
      "text/plain": [
       "['misspelled']"
      ]
     },
     "execution_count": 69,
     "metadata": {},
     "output_type": "execute_result"
    }
   ],
   "source": [
    "segment(correct_word)"
   ]
  },
  {
   "cell_type": "code",
   "execution_count": null,
   "metadata": {},
   "outputs": [],
   "source": []
  }
 ],
 "metadata": {
  "kernelspec": {
   "display_name": "Python 3",
   "language": "python",
   "name": "python3"
  },
  "language_info": {
   "codemirror_mode": {
    "name": "ipython",
    "version": 3
   },
   "file_extension": ".py",
   "mimetype": "text/x-python",
   "name": "python",
   "nbconvert_exporter": "python",
   "pygments_lexer": "ipython3",
   "version": "3.5.6"
  }
 },
 "nbformat": 4,
 "nbformat_minor": 2
}
